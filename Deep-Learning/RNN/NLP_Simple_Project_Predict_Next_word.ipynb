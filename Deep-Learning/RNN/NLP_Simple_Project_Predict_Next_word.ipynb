{
  "nbformat": 4,
  "nbformat_minor": 0,
  "metadata": {
    "colab": {
      "provenance": []
    },
    "kernelspec": {
      "name": "python3",
      "display_name": "Python 3"
    },
    "language_info": {
      "name": "python"
    }
  },
  "cells": [
    {
      "cell_type": "code",
      "execution_count": 1,
      "metadata": {
        "id": "SsTxYkmnwnO4"
      },
      "outputs": [],
      "source": [
        "# source text\n",
        "data = \"\"\"Natural language processing (NLP) is a subfield of linguistics, computer science, and artificial intelligence concerned with the interactions between computers and human language, in particular how to program computers to process and analyze large amounts of natural language data.\\n\n",
        "             Challenges in natural language processing frequently involve speech recognition, natural language understanding, and natural-language generation.\\n\n",
        "             Natural language processing has its roots in the 1950s.\\n\n",
        "             Already in 1950, Alan Turing published an article titled Computing Machinery and Intelligence which proposed what is now called the Turing test as a criterion of intelligence, a task that involves the automated interpretation and generation of natural language, but at the time not articulated as a problem separate from artificial intelligence.\\n\n",
        "             The following is a list of some of the most commonly researched tasks in natural language processing.\\n\n",
        "             Some of these tasks have direct real-world applications, while others more commonly serve as subtasks that are used to aid in solving larger tasks.\\n\n",
        "             Though natural language processing tasks are closely intertwined, they can be subdivided into categories for convenience.\\n\"\"\"\n"
      ]
    },
    {
      "cell_type": "code",
      "source": [
        "import nltk\n"
      ],
      "metadata": {
        "id": "zxeae6B1wrxJ"
      },
      "execution_count": 2,
      "outputs": []
    },
    {
      "cell_type": "code",
      "source": [
        "# prepare the dataset\n",
        "nltk.download('punkt_tab')\n",
        "\n",
        "nltk.download('punkt')\n",
        "nltk.download('stopwords')\n",
        "all_sentences = nltk.sent_tokenize(data)\n",
        "\n",
        "all_words = [nltk.word_tokenize(sent) for sent in all_sentences]\n",
        "\n",
        "# Removing Stop words\n",
        "from nltk.corpus import stopwords\n",
        "for i in range(len(all_words)):\n",
        "  all_words[i] = [w for w in all_words[i] if w not in stopwords.words('english')]"
      ],
      "metadata": {
        "colab": {
          "base_uri": "https://localhost:8080/"
        },
        "id": "neP0zd_Hw0Xh",
        "outputId": "18db51d7-8e00-47bc-b230-3a8a12dc1bfc"
      },
      "execution_count": 3,
      "outputs": [
        {
          "output_type": "stream",
          "name": "stderr",
          "text": [
            "[nltk_data] Downloading package punkt_tab to /root/nltk_data...\n",
            "[nltk_data]   Unzipping tokenizers/punkt_tab.zip.\n",
            "[nltk_data] Downloading package punkt to /root/nltk_data...\n",
            "[nltk_data]   Unzipping tokenizers/punkt.zip.\n",
            "[nltk_data] Downloading package stopwords to /root/nltk_data...\n",
            "[nltk_data]   Unzipping corpora/stopwords.zip.\n"
          ]
        }
      ]
    },
    {
      "cell_type": "code",
      "source": [
        "all_words"
      ],
      "metadata": {
        "colab": {
          "base_uri": "https://localhost:8080/"
        },
        "id": "iI6cYl9JxTSe",
        "outputId": "f68219e3-f12a-4151-fffe-9bd60e1b633e"
      },
      "execution_count": 4,
      "outputs": [
        {
          "output_type": "execute_result",
          "data": {
            "text/plain": [
              "[['Natural',\n",
              "  'language',\n",
              "  'processing',\n",
              "  '(',\n",
              "  'NLP',\n",
              "  ')',\n",
              "  'subfield',\n",
              "  'linguistics',\n",
              "  ',',\n",
              "  'computer',\n",
              "  'science',\n",
              "  ',',\n",
              "  'artificial',\n",
              "  'intelligence',\n",
              "  'concerned',\n",
              "  'interactions',\n",
              "  'computers',\n",
              "  'human',\n",
              "  'language',\n",
              "  ',',\n",
              "  'particular',\n",
              "  'program',\n",
              "  'computers',\n",
              "  'process',\n",
              "  'analyze',\n",
              "  'large',\n",
              "  'amounts',\n",
              "  'natural',\n",
              "  'language',\n",
              "  'data',\n",
              "  '.'],\n",
              " ['Challenges',\n",
              "  'natural',\n",
              "  'language',\n",
              "  'processing',\n",
              "  'frequently',\n",
              "  'involve',\n",
              "  'speech',\n",
              "  'recognition',\n",
              "  ',',\n",
              "  'natural',\n",
              "  'language',\n",
              "  'understanding',\n",
              "  ',',\n",
              "  'natural-language',\n",
              "  'generation',\n",
              "  '.'],\n",
              " ['Natural', 'language', 'processing', 'roots', '1950s', '.'],\n",
              " ['Already',\n",
              "  '1950',\n",
              "  ',',\n",
              "  'Alan',\n",
              "  'Turing',\n",
              "  'published',\n",
              "  'article',\n",
              "  'titled',\n",
              "  'Computing',\n",
              "  'Machinery',\n",
              "  'Intelligence',\n",
              "  'proposed',\n",
              "  'called',\n",
              "  'Turing',\n",
              "  'test',\n",
              "  'criterion',\n",
              "  'intelligence',\n",
              "  ',',\n",
              "  'task',\n",
              "  'involves',\n",
              "  'automated',\n",
              "  'interpretation',\n",
              "  'generation',\n",
              "  'natural',\n",
              "  'language',\n",
              "  ',',\n",
              "  'time',\n",
              "  'articulated',\n",
              "  'problem',\n",
              "  'separate',\n",
              "  'artificial',\n",
              "  'intelligence',\n",
              "  '.'],\n",
              " ['The',\n",
              "  'following',\n",
              "  'list',\n",
              "  'commonly',\n",
              "  'researched',\n",
              "  'tasks',\n",
              "  'natural',\n",
              "  'language',\n",
              "  'processing',\n",
              "  '.'],\n",
              " ['Some',\n",
              "  'tasks',\n",
              "  'direct',\n",
              "  'real-world',\n",
              "  'applications',\n",
              "  ',',\n",
              "  'others',\n",
              "  'commonly',\n",
              "  'serve',\n",
              "  'subtasks',\n",
              "  'used',\n",
              "  'aid',\n",
              "  'solving',\n",
              "  'larger',\n",
              "  'tasks',\n",
              "  '.'],\n",
              " ['Though',\n",
              "  'natural',\n",
              "  'language',\n",
              "  'processing',\n",
              "  'tasks',\n",
              "  'closely',\n",
              "  'intertwined',\n",
              "  ',',\n",
              "  'subdivided',\n",
              "  'categories',\n",
              "  'convenience',\n",
              "  '.']]"
            ]
          },
          "metadata": {},
          "execution_count": 4
        }
      ]
    },
    {
      "cell_type": "code",
      "source": [
        "!pip install gensim\n",
        "from gensim.models import Word2Vec\n",
        "\n",
        "word2vec = Word2Vec(all_words, min_count=1)"
      ],
      "metadata": {
        "colab": {
          "base_uri": "https://localhost:8080/"
        },
        "id": "DNVemi9DyCsS",
        "outputId": "88e0db0b-d4d4-4b64-b629-a3078a1d58df"
      },
      "execution_count": 5,
      "outputs": [
        {
          "output_type": "stream",
          "name": "stdout",
          "text": [
            "Requirement already satisfied: gensim in /usr/local/lib/python3.11/dist-packages (4.3.3)\n",
            "Requirement already satisfied: numpy<2.0,>=1.18.5 in /usr/local/lib/python3.11/dist-packages (from gensim) (1.26.4)\n",
            "Requirement already satisfied: scipy<1.14.0,>=1.7.0 in /usr/local/lib/python3.11/dist-packages (from gensim) (1.13.1)\n",
            "Requirement already satisfied: smart-open>=1.8.1 in /usr/local/lib/python3.11/dist-packages (from gensim) (7.1.0)\n",
            "Requirement already satisfied: wrapt in /usr/local/lib/python3.11/dist-packages (from smart-open>=1.8.1->gensim) (1.17.2)\n"
          ]
        }
      ]
    },
    {
      "cell_type": "code",
      "source": [
        "word2vec.wv.most_similar('processing')\n"
      ],
      "metadata": {
        "colab": {
          "base_uri": "https://localhost:8080/"
        },
        "id": "__Ny1ZENz4xv",
        "outputId": "70eb0b31-f541-479c-f0ed-702447a25c06"
      },
      "execution_count": 6,
      "outputs": [
        {
          "output_type": "execute_result",
          "data": {
            "text/plain": [
              "[('science', 0.253825843334198),\n",
              " ('Challenges', 0.20102696120738983),\n",
              " ('linguistics', 0.19542384147644043),\n",
              " ('amounts', 0.17556427419185638),\n",
              " ('.', 0.17191971838474274),\n",
              " ('Turing', 0.15155328810214996),\n",
              " ('list', 0.1496729850769043),\n",
              " ('following', 0.14837966859340668),\n",
              " ('human', 0.14774440228939056),\n",
              " ('Computing', 0.14511805772781372)]"
            ]
          },
          "metadata": {},
          "execution_count": 6
        }
      ]
    },
    {
      "cell_type": "code",
      "source": [
        "word2vec.wv.most_similar('language')"
      ],
      "metadata": {
        "colab": {
          "base_uri": "https://localhost:8080/"
        },
        "id": "R3_Tq4Mmz6fg",
        "outputId": "34df0aee-d0c9-45b6-e52e-8f8a63b3925c"
      },
      "execution_count": 7,
      "outputs": [
        {
          "output_type": "execute_result",
          "data": {
            "text/plain": [
              "[('recognition', 0.19066877663135529),\n",
              " ('data', 0.18839259445667267),\n",
              " ('serve', 0.18468110263347626),\n",
              " ('NLP', 0.16145464777946472),\n",
              " ('roots', 0.16034404933452606),\n",
              " ('automated', 0.1600670963525772),\n",
              " ('Machinery', 0.1595340073108673),\n",
              " ('science', 0.13824574649333954),\n",
              " ('separate', 0.1350008249282837),\n",
              " ('speech', 0.12905026972293854)]"
            ]
          },
          "metadata": {},
          "execution_count": 7
        }
      ]
    },
    {
      "cell_type": "markdown",
      "source": [
        "**Prediction Using LSTM**"
      ],
      "metadata": {
        "id": "ibbVq1ak09gP"
      }
    },
    {
      "cell_type": "code",
      "source": [
        "from tensorflow.keras.preprocessing.text import Tokenizer\n",
        "from keras.utils import to_categorical\n",
        "from keras.models import Sequential\n",
        "from keras.layers import Dense\n",
        "from keras.layers import LSTM\n",
        "from keras.layers import Embedding"
      ],
      "metadata": {
        "id": "IjXm5Ont1DzW"
      },
      "execution_count": 8,
      "outputs": []
    },
    {
      "cell_type": "code",
      "source": [
        "# integer encode text\n",
        "tokenizer = Tokenizer()\n",
        "tokenizer.fit_on_texts([data])\n",
        "encoded = tokenizer.texts_to_sequences([data])[0]\n",
        "\n",
        "# determine the vocubulary size\n",
        "vocab_size = len(tokenizer.word_index) + 1\n",
        "print('Vocabulary Size: %d' % vocab_size)"
      ],
      "metadata": {
        "colab": {
          "base_uri": "https://localhost:8080/"
        },
        "id": "T3lT8HTK160O",
        "outputId": "e8ddec10-c68d-4206-85be-ff50a045745b"
      },
      "execution_count": 9,
      "outputs": [
        {
          "output_type": "stream",
          "name": "stdout",
          "text": [
            "Vocabulary Size: 108\n"
          ]
        }
      ]
    },
    {
      "cell_type": "code",
      "source": [
        "import numpy as np\n",
        "# create word -> word sequence\n",
        "\n",
        "sequences = list()\n",
        "for i in range(1,len(encoded)):\n",
        "  sequence = encoded[i-1:i+1]\n",
        "  sequences.append(sequence)\n",
        "print('Total Sequence: %d' % len(sequences))\n",
        "# split into X and y elements\n",
        "sequences = np.array(sequences)\n",
        "X , y = sequences[:,0] , sequences[:,1]\n"
      ],
      "metadata": {
        "colab": {
          "base_uri": "https://localhost:8080/"
        },
        "id": "hML0oXEm1SHH",
        "outputId": "521e0bed-da34-4bb9-c37a-265f15f39d1e"
      },
      "execution_count": 10,
      "outputs": [
        {
          "output_type": "stream",
          "name": "stdout",
          "text": [
            "Total Sequence: 173\n"
          ]
        }
      ]
    },
    {
      "cell_type": "code",
      "source": [
        "y = to_categorical(y, num_classes=vocab_size)\n",
        "# define model\n",
        "model = Sequential()\n",
        "model.add(Embedding(vocab_size, 10))\n",
        "model.add(LSTM(50))\n",
        "model.add(Dense(vocab_size, activation='softmax'))\n",
        "\n",
        "# compile\n",
        "model.compile(loss='categorical_crossentropy' , optimizer='adam',\n",
        "              metrics=['accuracy'])\n",
        "\n",
        "# force to show the tranable params without building\n",
        "model.build(input_shape=(None, 1))\n",
        "model.summary()\n",
        "\n"
      ],
      "metadata": {
        "colab": {
          "base_uri": "https://localhost:8080/",
          "height": 236
        },
        "id": "wVJVr58C5JEW",
        "outputId": "e3ab55cb-be48-4c61-8ccc-567901f17705"
      },
      "execution_count": 11,
      "outputs": [
        {
          "output_type": "display_data",
          "data": {
            "text/plain": [
              "\u001b[1mModel: \"sequential\"\u001b[0m\n"
            ],
            "text/html": [
              "<pre style=\"white-space:pre;overflow-x:auto;line-height:normal;font-family:Menlo,'DejaVu Sans Mono',consolas,'Courier New',monospace\"><span style=\"font-weight: bold\">Model: \"sequential\"</span>\n",
              "</pre>\n"
            ]
          },
          "metadata": {}
        },
        {
          "output_type": "display_data",
          "data": {
            "text/plain": [
              "┏━━━━━━━━━━━━━━━━━━━━━━━━━━━━━━━━━━━━━━┳━━━━━━━━━━━━━━━━━━━━━━━━━━━━━┳━━━━━━━━━━━━━━━━━┓\n",
              "┃\u001b[1m \u001b[0m\u001b[1mLayer (type)                        \u001b[0m\u001b[1m \u001b[0m┃\u001b[1m \u001b[0m\u001b[1mOutput Shape               \u001b[0m\u001b[1m \u001b[0m┃\u001b[1m \u001b[0m\u001b[1m        Param #\u001b[0m\u001b[1m \u001b[0m┃\n",
              "┡━━━━━━━━━━━━━━━━━━━━━━━━━━━━━━━━━━━━━━╇━━━━━━━━━━━━━━━━━━━━━━━━━━━━━╇━━━━━━━━━━━━━━━━━┩\n",
              "│ embedding (\u001b[38;5;33mEmbedding\u001b[0m)                │ (\u001b[38;5;45mNone\u001b[0m, \u001b[38;5;34m1\u001b[0m, \u001b[38;5;34m10\u001b[0m)               │           \u001b[38;5;34m1,080\u001b[0m │\n",
              "├──────────────────────────────────────┼─────────────────────────────┼─────────────────┤\n",
              "│ lstm (\u001b[38;5;33mLSTM\u001b[0m)                          │ (\u001b[38;5;45mNone\u001b[0m, \u001b[38;5;34m50\u001b[0m)                  │          \u001b[38;5;34m12,200\u001b[0m │\n",
              "├──────────────────────────────────────┼─────────────────────────────┼─────────────────┤\n",
              "│ dense (\u001b[38;5;33mDense\u001b[0m)                        │ (\u001b[38;5;45mNone\u001b[0m, \u001b[38;5;34m108\u001b[0m)                 │           \u001b[38;5;34m5,508\u001b[0m │\n",
              "└──────────────────────────────────────┴─────────────────────────────┴─────────────────┘\n"
            ],
            "text/html": [
              "<pre style=\"white-space:pre;overflow-x:auto;line-height:normal;font-family:Menlo,'DejaVu Sans Mono',consolas,'Courier New',monospace\">┏━━━━━━━━━━━━━━━━━━━━━━━━━━━━━━━━━━━━━━┳━━━━━━━━━━━━━━━━━━━━━━━━━━━━━┳━━━━━━━━━━━━━━━━━┓\n",
              "┃<span style=\"font-weight: bold\"> Layer (type)                         </span>┃<span style=\"font-weight: bold\"> Output Shape                </span>┃<span style=\"font-weight: bold\">         Param # </span>┃\n",
              "┡━━━━━━━━━━━━━━━━━━━━━━━━━━━━━━━━━━━━━━╇━━━━━━━━━━━━━━━━━━━━━━━━━━━━━╇━━━━━━━━━━━━━━━━━┩\n",
              "│ embedding (<span style=\"color: #0087ff; text-decoration-color: #0087ff\">Embedding</span>)                │ (<span style=\"color: #00d7ff; text-decoration-color: #00d7ff\">None</span>, <span style=\"color: #00af00; text-decoration-color: #00af00\">1</span>, <span style=\"color: #00af00; text-decoration-color: #00af00\">10</span>)               │           <span style=\"color: #00af00; text-decoration-color: #00af00\">1,080</span> │\n",
              "├──────────────────────────────────────┼─────────────────────────────┼─────────────────┤\n",
              "│ lstm (<span style=\"color: #0087ff; text-decoration-color: #0087ff\">LSTM</span>)                          │ (<span style=\"color: #00d7ff; text-decoration-color: #00d7ff\">None</span>, <span style=\"color: #00af00; text-decoration-color: #00af00\">50</span>)                  │          <span style=\"color: #00af00; text-decoration-color: #00af00\">12,200</span> │\n",
              "├──────────────────────────────────────┼─────────────────────────────┼─────────────────┤\n",
              "│ dense (<span style=\"color: #0087ff; text-decoration-color: #0087ff\">Dense</span>)                        │ (<span style=\"color: #00d7ff; text-decoration-color: #00d7ff\">None</span>, <span style=\"color: #00af00; text-decoration-color: #00af00\">108</span>)                 │           <span style=\"color: #00af00; text-decoration-color: #00af00\">5,508</span> │\n",
              "└──────────────────────────────────────┴─────────────────────────────┴─────────────────┘\n",
              "</pre>\n"
            ]
          },
          "metadata": {}
        },
        {
          "output_type": "display_data",
          "data": {
            "text/plain": [
              "\u001b[1m Total params: \u001b[0m\u001b[38;5;34m18,788\u001b[0m (73.39 KB)\n"
            ],
            "text/html": [
              "<pre style=\"white-space:pre;overflow-x:auto;line-height:normal;font-family:Menlo,'DejaVu Sans Mono',consolas,'Courier New',monospace\"><span style=\"font-weight: bold\"> Total params: </span><span style=\"color: #00af00; text-decoration-color: #00af00\">18,788</span> (73.39 KB)\n",
              "</pre>\n"
            ]
          },
          "metadata": {}
        },
        {
          "output_type": "display_data",
          "data": {
            "text/plain": [
              "\u001b[1m Trainable params: \u001b[0m\u001b[38;5;34m18,788\u001b[0m (73.39 KB)\n"
            ],
            "text/html": [
              "<pre style=\"white-space:pre;overflow-x:auto;line-height:normal;font-family:Menlo,'DejaVu Sans Mono',consolas,'Courier New',monospace\"><span style=\"font-weight: bold\"> Trainable params: </span><span style=\"color: #00af00; text-decoration-color: #00af00\">18,788</span> (73.39 KB)\n",
              "</pre>\n"
            ]
          },
          "metadata": {}
        },
        {
          "output_type": "display_data",
          "data": {
            "text/plain": [
              "\u001b[1m Non-trainable params: \u001b[0m\u001b[38;5;34m0\u001b[0m (0.00 B)\n"
            ],
            "text/html": [
              "<pre style=\"white-space:pre;overflow-x:auto;line-height:normal;font-family:Menlo,'DejaVu Sans Mono',consolas,'Courier New',monospace\"><span style=\"font-weight: bold\"> Non-trainable params: </span><span style=\"color: #00af00; text-decoration-color: #00af00\">0</span> (0.00 B)\n",
              "</pre>\n"
            ]
          },
          "metadata": {}
        }
      ]
    },
    {
      "cell_type": "code",
      "source": [
        "model.fit(X,y, epochs=200 ,verbose=2)"
      ],
      "metadata": {
        "colab": {
          "base_uri": "https://localhost:8080/"
        },
        "id": "DXwCTIVG6P3l",
        "outputId": "92bdfccb-1ff7-46af-e0a3-17ac0b31dd5e"
      },
      "execution_count": 12,
      "outputs": [
        {
          "output_type": "stream",
          "name": "stdout",
          "text": [
            "Epoch 1/200\n",
            "6/6 - 5s - 760ms/step - accuracy: 0.0173 - loss: 4.6821\n",
            "Epoch 2/200\n",
            "6/6 - 1s - 91ms/step - accuracy: 0.0983 - loss: 4.6787\n",
            "Epoch 3/200\n",
            "6/6 - 0s - 53ms/step - accuracy: 0.1272 - loss: 4.6758\n",
            "Epoch 4/200\n",
            "6/6 - 0s - 37ms/step - accuracy: 0.1329 - loss: 4.6729\n",
            "Epoch 5/200\n",
            "6/6 - 0s - 48ms/step - accuracy: 0.1329 - loss: 4.6699\n",
            "Epoch 6/200\n",
            "6/6 - 0s - 58ms/step - accuracy: 0.1272 - loss: 4.6665\n",
            "Epoch 7/200\n",
            "6/6 - 0s - 76ms/step - accuracy: 0.1272 - loss: 4.6628\n",
            "Epoch 8/200\n",
            "6/6 - 0s - 33ms/step - accuracy: 0.1329 - loss: 4.6589\n",
            "Epoch 9/200\n",
            "6/6 - 0s - 28ms/step - accuracy: 0.1329 - loss: 4.6540\n",
            "Epoch 10/200\n",
            "6/6 - 0s - 56ms/step - accuracy: 0.1329 - loss: 4.6490\n",
            "Epoch 11/200\n",
            "6/6 - 0s - 53ms/step - accuracy: 0.1329 - loss: 4.6429\n",
            "Epoch 12/200\n",
            "6/6 - 0s - 49ms/step - accuracy: 0.1445 - loss: 4.6360\n",
            "Epoch 13/200\n",
            "6/6 - 0s - 42ms/step - accuracy: 0.1503 - loss: 4.6282\n",
            "Epoch 14/200\n",
            "6/6 - 0s - 40ms/step - accuracy: 0.1561 - loss: 4.6188\n",
            "Epoch 15/200\n",
            "6/6 - 0s - 59ms/step - accuracy: 0.1561 - loss: 4.6084\n",
            "Epoch 16/200\n",
            "6/6 - 1s - 102ms/step - accuracy: 0.1618 - loss: 4.5961\n",
            "Epoch 17/200\n",
            "6/6 - 0s - 67ms/step - accuracy: 0.1618 - loss: 4.5818\n",
            "Epoch 18/200\n",
            "6/6 - 0s - 38ms/step - accuracy: 0.1618 - loss: 4.5662\n",
            "Epoch 19/200\n",
            "6/6 - 0s - 60ms/step - accuracy: 0.1618 - loss: 4.5468\n",
            "Epoch 20/200\n",
            "6/6 - 0s - 30ms/step - accuracy: 0.1676 - loss: 4.5252\n",
            "Epoch 21/200\n",
            "6/6 - 0s - 66ms/step - accuracy: 0.1734 - loss: 4.4995\n",
            "Epoch 22/200\n",
            "6/6 - 0s - 32ms/step - accuracy: 0.1792 - loss: 4.4702\n",
            "Epoch 23/200\n",
            "6/6 - 0s - 38ms/step - accuracy: 0.1792 - loss: 4.4404\n",
            "Epoch 24/200\n",
            "6/6 - 0s - 51ms/step - accuracy: 0.1676 - loss: 4.4025\n",
            "Epoch 25/200\n",
            "6/6 - 0s - 53ms/step - accuracy: 0.1561 - loss: 4.3617\n",
            "Epoch 26/200\n",
            "6/6 - 0s - 44ms/step - accuracy: 0.1561 - loss: 4.3191\n",
            "Epoch 27/200\n",
            "6/6 - 0s - 36ms/step - accuracy: 0.1503 - loss: 4.2711\n",
            "Epoch 28/200\n",
            "6/6 - 0s - 31ms/step - accuracy: 0.1561 - loss: 4.2211\n",
            "Epoch 29/200\n",
            "6/6 - 0s - 62ms/step - accuracy: 0.1676 - loss: 4.1705\n",
            "Epoch 30/200\n",
            "6/6 - 0s - 47ms/step - accuracy: 0.1618 - loss: 4.1129\n",
            "Epoch 31/200\n",
            "6/6 - 0s - 42ms/step - accuracy: 0.1676 - loss: 4.0612\n",
            "Epoch 32/200\n",
            "6/6 - 0s - 38ms/step - accuracy: 0.1676 - loss: 4.0100\n",
            "Epoch 33/200\n",
            "6/6 - 0s - 50ms/step - accuracy: 0.1676 - loss: 3.9638\n",
            "Epoch 34/200\n",
            "6/6 - 0s - 62ms/step - accuracy: 0.1618 - loss: 3.9199\n",
            "Epoch 35/200\n",
            "6/6 - 0s - 60ms/step - accuracy: 0.1618 - loss: 3.8798\n",
            "Epoch 36/200\n",
            "6/6 - 0s - 36ms/step - accuracy: 0.1676 - loss: 3.8417\n",
            "Epoch 37/200\n",
            "6/6 - 0s - 49ms/step - accuracy: 0.1734 - loss: 3.8067\n",
            "Epoch 38/200\n",
            "6/6 - 0s - 39ms/step - accuracy: 0.1792 - loss: 3.7737\n",
            "Epoch 39/200\n",
            "6/6 - 0s - 64ms/step - accuracy: 0.1734 - loss: 3.7423\n",
            "Epoch 40/200\n",
            "6/6 - 0s - 42ms/step - accuracy: 0.1908 - loss: 3.7129\n",
            "Epoch 41/200\n",
            "6/6 - 0s - 40ms/step - accuracy: 0.2023 - loss: 3.6834\n",
            "Epoch 42/200\n",
            "6/6 - 0s - 37ms/step - accuracy: 0.2023 - loss: 3.6550\n",
            "Epoch 43/200\n",
            "6/6 - 0s - 28ms/step - accuracy: 0.2081 - loss: 3.6270\n",
            "Epoch 44/200\n",
            "6/6 - 0s - 65ms/step - accuracy: 0.2139 - loss: 3.5996\n",
            "Epoch 45/200\n",
            "6/6 - 0s - 62ms/step - accuracy: 0.2254 - loss: 3.5731\n",
            "Epoch 46/200\n",
            "6/6 - 1s - 95ms/step - accuracy: 0.2197 - loss: 3.5450\n",
            "Epoch 47/200\n",
            "6/6 - 0s - 53ms/step - accuracy: 0.2254 - loss: 3.5184\n",
            "Epoch 48/200\n",
            "6/6 - 0s - 50ms/step - accuracy: 0.2254 - loss: 3.4916\n",
            "Epoch 49/200\n",
            "6/6 - 1s - 103ms/step - accuracy: 0.2254 - loss: 3.4640\n",
            "Epoch 50/200\n",
            "6/6 - 0s - 36ms/step - accuracy: 0.2370 - loss: 3.4372\n",
            "Epoch 51/200\n",
            "6/6 - 0s - 38ms/step - accuracy: 0.2486 - loss: 3.4096\n",
            "Epoch 52/200\n",
            "6/6 - 0s - 32ms/step - accuracy: 0.2486 - loss: 3.3824\n",
            "Epoch 53/200\n",
            "6/6 - 0s - 18ms/step - accuracy: 0.2601 - loss: 3.3552\n",
            "Epoch 54/200\n",
            "6/6 - 0s - 23ms/step - accuracy: 0.2543 - loss: 3.3277\n",
            "Epoch 55/200\n",
            "6/6 - 0s - 16ms/step - accuracy: 0.2659 - loss: 3.2994\n",
            "Epoch 56/200\n",
            "6/6 - 0s - 33ms/step - accuracy: 0.2775 - loss: 3.2723\n",
            "Epoch 57/200\n",
            "6/6 - 0s - 23ms/step - accuracy: 0.2832 - loss: 3.2442\n",
            "Epoch 58/200\n",
            "6/6 - 0s - 57ms/step - accuracy: 0.2832 - loss: 3.2159\n",
            "Epoch 59/200\n",
            "6/6 - 0s - 17ms/step - accuracy: 0.2832 - loss: 3.1866\n",
            "Epoch 60/200\n",
            "6/6 - 0s - 27ms/step - accuracy: 0.2890 - loss: 3.1576\n",
            "Epoch 61/200\n",
            "6/6 - 0s - 22ms/step - accuracy: 0.2890 - loss: 3.1284\n",
            "Epoch 62/200\n",
            "6/6 - 0s - 58ms/step - accuracy: 0.2832 - loss: 3.0988\n",
            "Epoch 63/200\n",
            "6/6 - 0s - 69ms/step - accuracy: 0.2890 - loss: 3.0686\n",
            "Epoch 64/200\n",
            "6/6 - 0s - 41ms/step - accuracy: 0.2890 - loss: 3.0394\n",
            "Epoch 65/200\n",
            "6/6 - 0s - 15ms/step - accuracy: 0.2890 - loss: 3.0088\n",
            "Epoch 66/200\n",
            "6/6 - 0s - 13ms/step - accuracy: 0.2948 - loss: 2.9788\n",
            "Epoch 67/200\n",
            "6/6 - 0s - 25ms/step - accuracy: 0.2948 - loss: 2.9486\n",
            "Epoch 68/200\n",
            "6/6 - 0s - 18ms/step - accuracy: 0.3064 - loss: 2.9180\n",
            "Epoch 69/200\n",
            "6/6 - 0s - 26ms/step - accuracy: 0.3064 - loss: 2.8873\n",
            "Epoch 70/200\n",
            "6/6 - 0s - 46ms/step - accuracy: 0.3064 - loss: 2.8564\n",
            "Epoch 71/200\n",
            "6/6 - 0s - 23ms/step - accuracy: 0.3006 - loss: 2.8252\n",
            "Epoch 72/200\n",
            "6/6 - 0s - 21ms/step - accuracy: 0.3064 - loss: 2.7946\n",
            "Epoch 73/200\n",
            "6/6 - 0s - 24ms/step - accuracy: 0.3121 - loss: 2.7635\n",
            "Epoch 74/200\n",
            "6/6 - 0s - 24ms/step - accuracy: 0.3179 - loss: 2.7323\n",
            "Epoch 75/200\n",
            "6/6 - 0s - 24ms/step - accuracy: 0.3179 - loss: 2.7025\n",
            "Epoch 76/200\n",
            "6/6 - 0s - 24ms/step - accuracy: 0.3179 - loss: 2.6713\n",
            "Epoch 77/200\n",
            "6/6 - 0s - 22ms/step - accuracy: 0.3237 - loss: 2.6402\n",
            "Epoch 78/200\n",
            "6/6 - 0s - 23ms/step - accuracy: 0.3353 - loss: 2.6099\n",
            "Epoch 79/200\n",
            "6/6 - 0s - 21ms/step - accuracy: 0.3526 - loss: 2.5791\n",
            "Epoch 80/200\n",
            "6/6 - 0s - 19ms/step - accuracy: 0.3526 - loss: 2.5488\n",
            "Epoch 81/200\n",
            "6/6 - 0s - 18ms/step - accuracy: 0.3584 - loss: 2.5192\n",
            "Epoch 82/200\n",
            "6/6 - 0s - 21ms/step - accuracy: 0.3757 - loss: 2.4897\n",
            "Epoch 83/200\n",
            "6/6 - 0s - 23ms/step - accuracy: 0.3815 - loss: 2.4596\n",
            "Epoch 84/200\n",
            "6/6 - 0s - 23ms/step - accuracy: 0.3815 - loss: 2.4305\n",
            "Epoch 85/200\n",
            "6/6 - 0s - 18ms/step - accuracy: 0.3931 - loss: 2.4016\n",
            "Epoch 86/200\n",
            "6/6 - 0s - 12ms/step - accuracy: 0.4162 - loss: 2.3729\n",
            "Epoch 87/200\n",
            "6/6 - 0s - 27ms/step - accuracy: 0.4277 - loss: 2.3446\n",
            "Epoch 88/200\n",
            "6/6 - 0s - 12ms/step - accuracy: 0.4335 - loss: 2.3162\n",
            "Epoch 89/200\n",
            "6/6 - 0s - 23ms/step - accuracy: 0.4277 - loss: 2.2888\n",
            "Epoch 90/200\n",
            "6/6 - 0s - 12ms/step - accuracy: 0.4220 - loss: 2.2604\n",
            "Epoch 91/200\n",
            "6/6 - 0s - 23ms/step - accuracy: 0.4624 - loss: 2.2326\n",
            "Epoch 92/200\n",
            "6/6 - 0s - 12ms/step - accuracy: 0.4624 - loss: 2.2062\n",
            "Epoch 93/200\n",
            "6/6 - 0s - 13ms/step - accuracy: 0.4798 - loss: 2.1799\n",
            "Epoch 94/200\n",
            "6/6 - 0s - 13ms/step - accuracy: 0.4913 - loss: 2.1528\n",
            "Epoch 95/200\n",
            "6/6 - 0s - 22ms/step - accuracy: 0.5087 - loss: 2.1267\n",
            "Epoch 96/200\n",
            "6/6 - 0s - 12ms/step - accuracy: 0.5202 - loss: 2.1005\n",
            "Epoch 97/200\n",
            "6/6 - 0s - 26ms/step - accuracy: 0.5260 - loss: 2.0742\n",
            "Epoch 98/200\n",
            "6/6 - 0s - 21ms/step - accuracy: 0.5376 - loss: 2.0486\n",
            "Epoch 99/200\n",
            "6/6 - 0s - 23ms/step - accuracy: 0.5491 - loss: 2.0238\n",
            "Epoch 100/200\n",
            "6/6 - 0s - 23ms/step - accuracy: 0.5549 - loss: 1.9992\n",
            "Epoch 101/200\n",
            "6/6 - 0s - 12ms/step - accuracy: 0.5723 - loss: 1.9736\n",
            "Epoch 102/200\n",
            "6/6 - 0s - 12ms/step - accuracy: 0.5896 - loss: 1.9493\n",
            "Epoch 103/200\n",
            "6/6 - 0s - 23ms/step - accuracy: 0.5896 - loss: 1.9247\n",
            "Epoch 104/200\n",
            "6/6 - 0s - 14ms/step - accuracy: 0.5896 - loss: 1.8999\n",
            "Epoch 105/200\n",
            "6/6 - 0s - 22ms/step - accuracy: 0.6012 - loss: 1.8768\n",
            "Epoch 106/200\n",
            "6/6 - 0s - 15ms/step - accuracy: 0.6069 - loss: 1.8537\n",
            "Epoch 107/200\n",
            "6/6 - 0s - 13ms/step - accuracy: 0.6012 - loss: 1.8306\n",
            "Epoch 108/200\n",
            "6/6 - 0s - 24ms/step - accuracy: 0.6069 - loss: 1.8082\n",
            "Epoch 109/200\n",
            "6/6 - 0s - 13ms/step - accuracy: 0.6127 - loss: 1.7859\n",
            "Epoch 110/200\n",
            "6/6 - 0s - 22ms/step - accuracy: 0.6301 - loss: 1.7633\n",
            "Epoch 111/200\n",
            "6/6 - 0s - 24ms/step - accuracy: 0.6243 - loss: 1.7426\n",
            "Epoch 112/200\n",
            "6/6 - 0s - 23ms/step - accuracy: 0.6301 - loss: 1.7208\n",
            "Epoch 113/200\n",
            "6/6 - 0s - 21ms/step - accuracy: 0.6358 - loss: 1.7001\n",
            "Epoch 114/200\n",
            "6/6 - 0s - 10ms/step - accuracy: 0.6358 - loss: 1.6790\n",
            "Epoch 115/200\n",
            "6/6 - 0s - 12ms/step - accuracy: 0.6416 - loss: 1.6581\n",
            "Epoch 116/200\n",
            "6/6 - 0s - 20ms/step - accuracy: 0.6358 - loss: 1.6378\n",
            "Epoch 117/200\n",
            "6/6 - 0s - 10ms/step - accuracy: 0.6532 - loss: 1.6181\n",
            "Epoch 118/200\n",
            "6/6 - 0s - 10ms/step - accuracy: 0.6532 - loss: 1.5979\n",
            "Epoch 119/200\n",
            "6/6 - 0s - 10ms/step - accuracy: 0.6532 - loss: 1.5785\n",
            "Epoch 120/200\n",
            "6/6 - 0s - 10ms/step - accuracy: 0.6532 - loss: 1.5595\n",
            "Epoch 121/200\n",
            "6/6 - 0s - 10ms/step - accuracy: 0.6590 - loss: 1.5405\n",
            "Epoch 122/200\n",
            "6/6 - 0s - 10ms/step - accuracy: 0.6705 - loss: 1.5216\n",
            "Epoch 123/200\n",
            "6/6 - 0s - 10ms/step - accuracy: 0.6763 - loss: 1.5030\n",
            "Epoch 124/200\n",
            "6/6 - 0s - 10ms/step - accuracy: 0.6821 - loss: 1.4841\n",
            "Epoch 125/200\n",
            "6/6 - 0s - 10ms/step - accuracy: 0.6936 - loss: 1.4669\n",
            "Epoch 126/200\n",
            "6/6 - 0s - 11ms/step - accuracy: 0.6994 - loss: 1.4495\n",
            "Epoch 127/200\n",
            "6/6 - 0s - 22ms/step - accuracy: 0.6936 - loss: 1.4325\n",
            "Epoch 128/200\n",
            "6/6 - 0s - 10ms/step - accuracy: 0.6936 - loss: 1.4154\n",
            "Epoch 129/200\n",
            "6/6 - 0s - 23ms/step - accuracy: 0.6821 - loss: 1.3994\n",
            "Epoch 130/200\n",
            "6/6 - 0s - 10ms/step - accuracy: 0.6879 - loss: 1.3832\n",
            "Epoch 131/200\n",
            "6/6 - 0s - 10ms/step - accuracy: 0.6821 - loss: 1.3679\n",
            "Epoch 132/200\n",
            "6/6 - 0s - 10ms/step - accuracy: 0.6879 - loss: 1.3514\n",
            "Epoch 133/200\n",
            "6/6 - 0s - 10ms/step - accuracy: 0.6879 - loss: 1.3364\n",
            "Epoch 134/200\n",
            "6/6 - 0s - 10ms/step - accuracy: 0.6936 - loss: 1.3216\n",
            "Epoch 135/200\n",
            "6/6 - 0s - 10ms/step - accuracy: 0.6936 - loss: 1.3067\n",
            "Epoch 136/200\n",
            "6/6 - 0s - 10ms/step - accuracy: 0.6994 - loss: 1.2920\n",
            "Epoch 137/200\n",
            "6/6 - 0s - 23ms/step - accuracy: 0.6936 - loss: 1.2778\n",
            "Epoch 138/200\n",
            "6/6 - 0s - 11ms/step - accuracy: 0.6994 - loss: 1.2641\n",
            "Epoch 139/200\n",
            "6/6 - 0s - 25ms/step - accuracy: 0.7110 - loss: 1.2509\n",
            "Epoch 140/200\n",
            "6/6 - 0s - 17ms/step - accuracy: 0.7168 - loss: 1.2368\n",
            "Epoch 141/200\n",
            "6/6 - 0s - 10ms/step - accuracy: 0.7110 - loss: 1.2245\n",
            "Epoch 142/200\n",
            "6/6 - 0s - 23ms/step - accuracy: 0.7110 - loss: 1.2114\n",
            "Epoch 143/200\n",
            "6/6 - 0s - 10ms/step - accuracy: 0.7110 - loss: 1.1983\n",
            "Epoch 144/200\n",
            "6/6 - 0s - 10ms/step - accuracy: 0.7110 - loss: 1.1856\n",
            "Epoch 145/200\n",
            "6/6 - 0s - 10ms/step - accuracy: 0.7052 - loss: 1.1742\n",
            "Epoch 146/200\n",
            "6/6 - 0s - 10ms/step - accuracy: 0.7110 - loss: 1.1625\n",
            "Epoch 147/200\n",
            "6/6 - 0s - 10ms/step - accuracy: 0.7110 - loss: 1.1511\n",
            "Epoch 148/200\n",
            "6/6 - 0s - 23ms/step - accuracy: 0.7168 - loss: 1.1399\n",
            "Epoch 149/200\n",
            "6/6 - 0s - 12ms/step - accuracy: 0.7168 - loss: 1.1289\n",
            "Epoch 150/200\n",
            "6/6 - 0s - 10ms/step - accuracy: 0.7168 - loss: 1.1187\n",
            "Epoch 151/200\n",
            "6/6 - 0s - 10ms/step - accuracy: 0.7168 - loss: 1.1087\n",
            "Epoch 152/200\n",
            "6/6 - 0s - 9ms/step - accuracy: 0.7168 - loss: 1.0977\n",
            "Epoch 153/200\n",
            "6/6 - 0s - 10ms/step - accuracy: 0.7168 - loss: 1.0877\n",
            "Epoch 154/200\n",
            "6/6 - 0s - 11ms/step - accuracy: 0.7052 - loss: 1.0783\n",
            "Epoch 155/200\n",
            "6/6 - 0s - 10ms/step - accuracy: 0.7168 - loss: 1.0684\n",
            "Epoch 156/200\n",
            "6/6 - 0s - 11ms/step - accuracy: 0.7110 - loss: 1.0599\n",
            "Epoch 157/200\n",
            "6/6 - 0s - 10ms/step - accuracy: 0.7168 - loss: 1.0506\n",
            "Epoch 158/200\n",
            "6/6 - 0s - 10ms/step - accuracy: 0.7168 - loss: 1.0412\n",
            "Epoch 159/200\n",
            "6/6 - 0s - 9ms/step - accuracy: 0.7168 - loss: 1.0330\n",
            "Epoch 160/200\n",
            "6/6 - 0s - 11ms/step - accuracy: 0.7110 - loss: 1.0240\n",
            "Epoch 161/200\n",
            "6/6 - 0s - 10ms/step - accuracy: 0.7168 - loss: 1.0147\n",
            "Epoch 162/200\n",
            "6/6 - 0s - 10ms/step - accuracy: 0.7052 - loss: 1.0065\n",
            "Epoch 163/200\n",
            "6/6 - 0s - 10ms/step - accuracy: 0.7168 - loss: 0.9993\n",
            "Epoch 164/200\n",
            "6/6 - 0s - 24ms/step - accuracy: 0.7225 - loss: 0.9912\n",
            "Epoch 165/200\n",
            "6/6 - 0s - 10ms/step - accuracy: 0.7110 - loss: 0.9837\n",
            "Epoch 166/200\n",
            "6/6 - 0s - 10ms/step - accuracy: 0.7168 - loss: 0.9761\n",
            "Epoch 167/200\n",
            "6/6 - 0s - 10ms/step - accuracy: 0.7168 - loss: 0.9687\n",
            "Epoch 168/200\n",
            "6/6 - 0s - 11ms/step - accuracy: 0.7168 - loss: 0.9611\n",
            "Epoch 169/200\n",
            "6/6 - 0s - 10ms/step - accuracy: 0.7168 - loss: 0.9543\n",
            "Epoch 170/200\n",
            "6/6 - 0s - 10ms/step - accuracy: 0.7168 - loss: 0.9476\n",
            "Epoch 171/200\n",
            "6/6 - 0s - 10ms/step - accuracy: 0.7168 - loss: 0.9408\n",
            "Epoch 172/200\n",
            "6/6 - 0s - 10ms/step - accuracy: 0.7110 - loss: 0.9348\n",
            "Epoch 173/200\n",
            "6/6 - 0s - 10ms/step - accuracy: 0.7110 - loss: 0.9278\n",
            "Epoch 174/200\n",
            "6/6 - 0s - 10ms/step - accuracy: 0.7168 - loss: 0.9214\n",
            "Epoch 175/200\n",
            "6/6 - 0s - 23ms/step - accuracy: 0.7168 - loss: 0.9148\n",
            "Epoch 176/200\n",
            "6/6 - 0s - 10ms/step - accuracy: 0.7168 - loss: 0.9099\n",
            "Epoch 177/200\n",
            "6/6 - 0s - 10ms/step - accuracy: 0.7168 - loss: 0.9037\n",
            "Epoch 178/200\n",
            "6/6 - 0s - 23ms/step - accuracy: 0.7110 - loss: 0.8983\n",
            "Epoch 179/200\n",
            "6/6 - 0s - 10ms/step - accuracy: 0.7168 - loss: 0.8926\n",
            "Epoch 180/200\n",
            "6/6 - 0s - 10ms/step - accuracy: 0.7168 - loss: 0.8867\n",
            "Epoch 181/200\n",
            "6/6 - 0s - 10ms/step - accuracy: 0.7052 - loss: 0.8815\n",
            "Epoch 182/200\n",
            "6/6 - 0s - 23ms/step - accuracy: 0.7110 - loss: 0.8769\n",
            "Epoch 183/200\n",
            "6/6 - 0s - 10ms/step - accuracy: 0.7110 - loss: 0.8719\n",
            "Epoch 184/200\n",
            "6/6 - 0s - 10ms/step - accuracy: 0.7168 - loss: 0.8669\n",
            "Epoch 185/200\n",
            "6/6 - 0s - 10ms/step - accuracy: 0.7110 - loss: 0.8616\n",
            "Epoch 186/200\n",
            "6/6 - 0s - 10ms/step - accuracy: 0.7168 - loss: 0.8570\n",
            "Epoch 187/200\n",
            "6/6 - 0s - 10ms/step - accuracy: 0.7110 - loss: 0.8523\n",
            "Epoch 188/200\n",
            "6/6 - 0s - 10ms/step - accuracy: 0.7168 - loss: 0.8474\n",
            "Epoch 189/200\n",
            "6/6 - 0s - 10ms/step - accuracy: 0.7110 - loss: 0.8435\n",
            "Epoch 190/200\n",
            "6/6 - 0s - 10ms/step - accuracy: 0.7110 - loss: 0.8393\n",
            "Epoch 191/200\n",
            "6/6 - 0s - 23ms/step - accuracy: 0.7110 - loss: 0.8345\n",
            "Epoch 192/200\n",
            "6/6 - 0s - 10ms/step - accuracy: 0.7110 - loss: 0.8310\n",
            "Epoch 193/200\n",
            "6/6 - 0s - 10ms/step - accuracy: 0.7168 - loss: 0.8262\n",
            "Epoch 194/200\n",
            "6/6 - 0s - 10ms/step - accuracy: 0.7110 - loss: 0.8227\n",
            "Epoch 195/200\n",
            "6/6 - 0s - 10ms/step - accuracy: 0.7110 - loss: 0.8188\n",
            "Epoch 196/200\n",
            "6/6 - 0s - 11ms/step - accuracy: 0.7052 - loss: 0.8155\n",
            "Epoch 197/200\n",
            "6/6 - 0s - 10ms/step - accuracy: 0.7168 - loss: 0.8118\n",
            "Epoch 198/200\n",
            "6/6 - 0s - 10ms/step - accuracy: 0.7052 - loss: 0.8079\n",
            "Epoch 199/200\n",
            "6/6 - 0s - 10ms/step - accuracy: 0.7168 - loss: 0.8046\n",
            "Epoch 200/200\n",
            "6/6 - 0s - 10ms/step - accuracy: 0.7110 - loss: 0.8006\n"
          ]
        },
        {
          "output_type": "execute_result",
          "data": {
            "text/plain": [
              "<keras.src.callbacks.history.History at 0x79315ea6b2d0>"
            ]
          },
          "metadata": {},
          "execution_count": 12
        }
      ]
    },
    {
      "cell_type": "code",
      "source": [
        "import numpy as np\n",
        "\n",
        "def generate_seq(model, tokenizer, seed_text, n_words):\n",
        "    in_text, result = seed_text, seed_text\n",
        "\n",
        "    for _ in range(n_words):\n",
        "        # Encode text as integers\n",
        "        encoded = tokenizer.texts_to_sequences([in_text])[0]\n",
        "\n",
        "        if not encoded:  # Check if token exists\n",
        "            print(\"Warning: Word not found in tokenizer vocabulary.\")\n",
        "            break\n",
        "\n",
        "        # Reshape for model input\n",
        "        encoded = np.array(encoded).reshape(1, -1)\n",
        "\n",
        "        # Predict next word index\n",
        "        yhat = np.argmax(model.predict(encoded, verbose=0), axis=-1)[0]\n",
        "\n",
        "        # Find corresponding word\n",
        "        out_word = next((word for word, index in tokenizer.word_index.items() if index == yhat), None)\n",
        "\n",
        "        if not out_word:  # Stop if prediction fails\n",
        "            print(\"Warning: No word found for predicted index.\")\n",
        "            break\n",
        "\n",
        "        # Append to result\n",
        "        in_text, result = out_word, result + ' ' + out_word\n",
        "    return result\n"
      ],
      "metadata": {
        "id": "PqfgRDSW6d30"
      },
      "execution_count": 13,
      "outputs": []
    },
    {
      "cell_type": "code",
      "source": [
        "print(generate_seq(model ,tokenizer, 'subfield', 40))"
      ],
      "metadata": {
        "colab": {
          "base_uri": "https://localhost:8080/"
        },
        "id": "XGW8nfMg9uQg",
        "outputId": "5868fde4-ee83-4b02-c8a8-ee84734b9ed3"
      },
      "execution_count": 15,
      "outputs": [
        {
          "output_type": "stream",
          "name": "stdout",
          "text": [
            "subfield of natural language processing tasks are closely intertwined they can be subdivided into categories for convenience interpretation and artificial intelligence the turing published an article titled computing machinery and artificial intelligence the turing published an article titled computing machinery and\n"
          ]
        }
      ]
    }
  ]
}