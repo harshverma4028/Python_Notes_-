{
  "nbformat": 4,
  "nbformat_minor": 0,
  "metadata": {
    "colab": {
      "provenance": []
    },
    "kernelspec": {
      "name": "python3",
      "display_name": "Python 3"
    },
    "language_info": {
      "name": "python"
    }
  },
  "cells": [
    {
      "cell_type": "code",
      "execution_count": 17,
      "metadata": {
        "id": "SsTxYkmnwnO4"
      },
      "outputs": [],
      "source": [
        "# source text\n",
        "data = \"\"\"The Grand Canyon is a steep-sided canyon carved by the Colorado River in Arizona, United States. The Grand Canyon is 277 miles long, up to 18 miles wide and attains a depth of over a mile.\n",
        "\n",
        "The canyon and adjacent rim are contained within Grand Canyon National Park, the Kaibab National Forest, Grand Canyon–Parashant National Monument, the Hualapai Indian Reservation, the Havasupai Indian Reservation and the Navajo Nation. President Theodore Roosevelt was a major proponent of preservation of the Grand Canyon area and visited it on numerous occasions to hunt and enjoy the scenery.\n",
        "\n",
        "Nearly two billion years of Earth's geological history have been exposed as the Colorado River and its tributaries cut their channels through layer after layer of rock while the Colorado Plateau was uplifted. While some aspects about the history of incision of the canyon are debated by geologists, several recent studies support the hypothesis that the Colorado River established its course through the area about 5 to 6 million years ago. Since that time, the Colorado River has driven the down-cutting of the tributaries and retreat of the cliffs, simultaneously deepening and widening the canyon.\n",
        "\n",
        "For thousands of years, the area has been continuously inhabited by Native Americans, who built settlements within the canyon and its many caves. The Pueblo people considered the Grand Canyon a holy site, and made pilgrimages to it. The first European known to have viewed the Grand Canyon was García López de Cárdenas from Spain, who arrived in 1540.\"\"\"\n"
      ]
    },
    {
      "cell_type": "code",
      "source": [
        "import nltk\n"
      ],
      "metadata": {
        "id": "zxeae6B1wrxJ"
      },
      "execution_count": 18,
      "outputs": []
    },
    {
      "cell_type": "code",
      "source": [
        "# prepare the dataset\n",
        "nltk.download('punkt_tab')\n",
        "\n",
        "nltk.download('punkt')\n",
        "nltk.download('stopwords')\n",
        "all_sentences = nltk.sent_tokenize(data)\n",
        "\n",
        "all_words = [nltk.word_tokenize(sent) for sent in all_sentences]\n",
        "\n",
        "# Removing Stop words\n",
        "from nltk.corpus import stopwords\n",
        "for i in range(len(all_words)):\n",
        "  all_words[i] = [w for w in all_words[i] if w not in stopwords.words('english')]"
      ],
      "metadata": {
        "colab": {
          "base_uri": "https://localhost:8080/"
        },
        "id": "neP0zd_Hw0Xh",
        "outputId": "fe5b17bc-41a3-4967-c202-f60a6b115fd5"
      },
      "execution_count": 19,
      "outputs": [
        {
          "output_type": "stream",
          "name": "stderr",
          "text": [
            "[nltk_data] Downloading package punkt_tab to /root/nltk_data...\n",
            "[nltk_data]   Package punkt_tab is already up-to-date!\n",
            "[nltk_data] Downloading package punkt to /root/nltk_data...\n",
            "[nltk_data]   Package punkt is already up-to-date!\n",
            "[nltk_data] Downloading package stopwords to /root/nltk_data...\n",
            "[nltk_data]   Package stopwords is already up-to-date!\n"
          ]
        }
      ]
    },
    {
      "cell_type": "code",
      "source": [
        "all_words"
      ],
      "metadata": {
        "colab": {
          "base_uri": "https://localhost:8080/"
        },
        "id": "iI6cYl9JxTSe",
        "outputId": "d8b0cf7f-b422-4b04-c6bf-c81af5cb8fc3"
      },
      "execution_count": 20,
      "outputs": [
        {
          "output_type": "execute_result",
          "data": {
            "text/plain": [
              "[['The',\n",
              "  'Grand',\n",
              "  'Canyon',\n",
              "  'steep-sided',\n",
              "  'canyon',\n",
              "  'carved',\n",
              "  'Colorado',\n",
              "  'River',\n",
              "  'Arizona',\n",
              "  ',',\n",
              "  'United',\n",
              "  'States',\n",
              "  '.'],\n",
              " ['The',\n",
              "  'Grand',\n",
              "  'Canyon',\n",
              "  '277',\n",
              "  'miles',\n",
              "  'long',\n",
              "  ',',\n",
              "  '18',\n",
              "  'miles',\n",
              "  'wide',\n",
              "  'attains',\n",
              "  'depth',\n",
              "  'mile',\n",
              "  '.'],\n",
              " ['The',\n",
              "  'canyon',\n",
              "  'adjacent',\n",
              "  'rim',\n",
              "  'contained',\n",
              "  'within',\n",
              "  'Grand',\n",
              "  'Canyon',\n",
              "  'National',\n",
              "  'Park',\n",
              "  ',',\n",
              "  'Kaibab',\n",
              "  'National',\n",
              "  'Forest',\n",
              "  ',',\n",
              "  'Grand',\n",
              "  'Canyon–Parashant',\n",
              "  'National',\n",
              "  'Monument',\n",
              "  ',',\n",
              "  'Hualapai',\n",
              "  'Indian',\n",
              "  'Reservation',\n",
              "  ',',\n",
              "  'Havasupai',\n",
              "  'Indian',\n",
              "  'Reservation',\n",
              "  'Navajo',\n",
              "  'Nation',\n",
              "  '.'],\n",
              " ['President',\n",
              "  'Theodore',\n",
              "  'Roosevelt',\n",
              "  'major',\n",
              "  'proponent',\n",
              "  'preservation',\n",
              "  'Grand',\n",
              "  'Canyon',\n",
              "  'area',\n",
              "  'visited',\n",
              "  'numerous',\n",
              "  'occasions',\n",
              "  'hunt',\n",
              "  'enjoy',\n",
              "  'scenery',\n",
              "  '.'],\n",
              " ['Nearly',\n",
              "  'two',\n",
              "  'billion',\n",
              "  'years',\n",
              "  'Earth',\n",
              "  \"'s\",\n",
              "  'geological',\n",
              "  'history',\n",
              "  'exposed',\n",
              "  'Colorado',\n",
              "  'River',\n",
              "  'tributaries',\n",
              "  'cut',\n",
              "  'channels',\n",
              "  'layer',\n",
              "  'layer',\n",
              "  'rock',\n",
              "  'Colorado',\n",
              "  'Plateau',\n",
              "  'uplifted',\n",
              "  '.'],\n",
              " ['While',\n",
              "  'aspects',\n",
              "  'history',\n",
              "  'incision',\n",
              "  'canyon',\n",
              "  'debated',\n",
              "  'geologists',\n",
              "  ',',\n",
              "  'several',\n",
              "  'recent',\n",
              "  'studies',\n",
              "  'support',\n",
              "  'hypothesis',\n",
              "  'Colorado',\n",
              "  'River',\n",
              "  'established',\n",
              "  'course',\n",
              "  'area',\n",
              "  '5',\n",
              "  '6',\n",
              "  'million',\n",
              "  'years',\n",
              "  'ago',\n",
              "  '.'],\n",
              " ['Since',\n",
              "  'time',\n",
              "  ',',\n",
              "  'Colorado',\n",
              "  'River',\n",
              "  'driven',\n",
              "  'down-cutting',\n",
              "  'tributaries',\n",
              "  'retreat',\n",
              "  'cliffs',\n",
              "  ',',\n",
              "  'simultaneously',\n",
              "  'deepening',\n",
              "  'widening',\n",
              "  'canyon',\n",
              "  '.'],\n",
              " ['For',\n",
              "  'thousands',\n",
              "  'years',\n",
              "  ',',\n",
              "  'area',\n",
              "  'continuously',\n",
              "  'inhabited',\n",
              "  'Native',\n",
              "  'Americans',\n",
              "  ',',\n",
              "  'built',\n",
              "  'settlements',\n",
              "  'within',\n",
              "  'canyon',\n",
              "  'many',\n",
              "  'caves',\n",
              "  '.'],\n",
              " ['The',\n",
              "  'Pueblo',\n",
              "  'people',\n",
              "  'considered',\n",
              "  'Grand',\n",
              "  'Canyon',\n",
              "  'holy',\n",
              "  'site',\n",
              "  ',',\n",
              "  'made',\n",
              "  'pilgrimages',\n",
              "  '.'],\n",
              " ['The',\n",
              "  'first',\n",
              "  'European',\n",
              "  'known',\n",
              "  'viewed',\n",
              "  'Grand',\n",
              "  'Canyon',\n",
              "  'García',\n",
              "  'López',\n",
              "  'de',\n",
              "  'Cárdenas',\n",
              "  'Spain',\n",
              "  ',',\n",
              "  'arrived',\n",
              "  '1540',\n",
              "  '.']]"
            ]
          },
          "metadata": {},
          "execution_count": 20
        }
      ]
    },
    {
      "cell_type": "code",
      "source": [
        "!pip install gensim\n",
        "from gensim.models import Word2Vec\n",
        "\n",
        "word2vec = Word2Vec(all_words, min_count=1)"
      ],
      "metadata": {
        "colab": {
          "base_uri": "https://localhost:8080/"
        },
        "id": "DNVemi9DyCsS",
        "outputId": "3366dd29-4435-4f04-9d6b-3f5e8466a583"
      },
      "execution_count": 21,
      "outputs": [
        {
          "output_type": "stream",
          "name": "stdout",
          "text": [
            "Requirement already satisfied: gensim in /usr/local/lib/python3.11/dist-packages (4.3.3)\n",
            "Requirement already satisfied: numpy<2.0,>=1.18.5 in /usr/local/lib/python3.11/dist-packages (from gensim) (1.26.4)\n",
            "Requirement already satisfied: scipy<1.14.0,>=1.7.0 in /usr/local/lib/python3.11/dist-packages (from gensim) (1.13.1)\n",
            "Requirement already satisfied: smart-open>=1.8.1 in /usr/local/lib/python3.11/dist-packages (from gensim) (7.1.0)\n",
            "Requirement already satisfied: wrapt in /usr/local/lib/python3.11/dist-packages (from smart-open>=1.8.1->gensim) (1.17.2)\n"
          ]
        }
      ]
    },
    {
      "cell_type": "code",
      "source": [
        "word2vec.wv.most_similar('Grand')\n"
      ],
      "metadata": {
        "colab": {
          "base_uri": "https://localhost:8080/"
        },
        "id": "__Ny1ZENz4xv",
        "outputId": "93bcfcc1-7c6d-46dd-b18b-20c9ca4c7778"
      },
      "execution_count": 24,
      "outputs": [
        {
          "output_type": "execute_result",
          "data": {
            "text/plain": [
              "[('Nearly', 0.3710095286369324),\n",
              " ('hunt', 0.2133701741695404),\n",
              " ('García', 0.20292851328849792),\n",
              " ('National', 0.20262862741947174),\n",
              " ('widening', 0.18730488419532776),\n",
              " ('billion', 0.18335269391536713),\n",
              " ('layer', 0.17477752268314362),\n",
              " ('Navajo', 0.17114494740962982),\n",
              " ('Colorado', 0.17063814401626587),\n",
              " ('incision', 0.1615745723247528)]"
            ]
          },
          "metadata": {},
          "execution_count": 24
        }
      ]
    },
    {
      "cell_type": "code",
      "source": [
        "word2vec.wv.most_similar('incision')"
      ],
      "metadata": {
        "colab": {
          "base_uri": "https://localhost:8080/"
        },
        "id": "R3_Tq4Mmz6fg",
        "outputId": "e7c68210-0835-480c-fdb6-b9a695e7c7ab"
      },
      "execution_count": 26,
      "outputs": [
        {
          "output_type": "execute_result",
          "data": {
            "text/plain": [
              "[('Colorado', 0.17787475883960724),\n",
              " ('Reservation', 0.17240816354751587),\n",
              " ('Grand', 0.1615746021270752),\n",
              " ('United', 0.1582937091588974),\n",
              " ('wide', 0.15795394778251648),\n",
              " ('Park', 0.14983715116977692),\n",
              " ('viewed', 0.1467556208372116),\n",
              " ('settlements', 0.14104360342025757),\n",
              " ('Since', 0.13654309511184692),\n",
              " ('Plateau', 0.1346345990896225)]"
            ]
          },
          "metadata": {},
          "execution_count": 26
        }
      ]
    },
    {
      "cell_type": "markdown",
      "source": [
        "**Prediction Using LSTM**"
      ],
      "metadata": {
        "id": "ibbVq1ak09gP"
      }
    },
    {
      "cell_type": "code",
      "source": [
        "from tensorflow.keras.preprocessing.text import Tokenizer\n",
        "from keras.utils import to_categorical\n",
        "from keras.models import Sequential\n",
        "from keras.layers import Dense\n",
        "from keras.layers import LSTM\n",
        "from keras.layers import Embedding"
      ],
      "metadata": {
        "id": "IjXm5Ont1DzW"
      },
      "execution_count": 27,
      "outputs": []
    },
    {
      "cell_type": "code",
      "source": [
        "# integer encode text\n",
        "tokenizer = Tokenizer()\n",
        "tokenizer.fit_on_texts([data])\n",
        "encoded = tokenizer.texts_to_sequences([data])[0]\n",
        "\n",
        "# determine the vocubulary size\n",
        "vocab_size = len(tokenizer.word_index) + 1\n",
        "print('Vocabulary Size: %d' % vocab_size)"
      ],
      "metadata": {
        "colab": {
          "base_uri": "https://localhost:8080/"
        },
        "id": "T3lT8HTK160O",
        "outputId": "824c0159-e44d-4bf7-9952-33fca3032402"
      },
      "execution_count": 28,
      "outputs": [
        {
          "output_type": "stream",
          "name": "stdout",
          "text": [
            "Vocabulary Size: 144\n"
          ]
        }
      ]
    },
    {
      "cell_type": "code",
      "source": [
        "import numpy as np\n",
        "# create word -> word sequence\n",
        "\n",
        "sequences = list()\n",
        "for i in range(1,len(encoded)):\n",
        "  sequence = encoded[i-1:i+1]\n",
        "  sequences.append(sequence)\n",
        "print('Total Sequence: %d' % len(sequences))\n",
        "# split into X and y elements\n",
        "sequences = np.array(sequences)\n",
        "X , y = sequences[:,0] , sequences[:,1]\n"
      ],
      "metadata": {
        "colab": {
          "base_uri": "https://localhost:8080/"
        },
        "id": "hML0oXEm1SHH",
        "outputId": "321676db-5a41-4c64-ccfe-8ee829471a15"
      },
      "execution_count": 29,
      "outputs": [
        {
          "output_type": "stream",
          "name": "stdout",
          "text": [
            "Total Sequence: 249\n"
          ]
        }
      ]
    },
    {
      "cell_type": "code",
      "source": [
        "y = to_categorical(y, num_classes=vocab_size)\n",
        "# define model\n",
        "model = Sequential()\n",
        "model.add(Embedding(vocab_size, 10))\n",
        "model.add(LSTM(50))\n",
        "model.add(Dense(vocab_size, activation='softmax'))\n",
        "\n",
        "# compile\n",
        "model.compile(loss='categorical_crossentropy', optimizer='adam',\n",
        "              metrics=['accuracy'])\n",
        "\n",
        "# force to show the tranable params without building\n",
        "model.build(input_shape=(None, 1))\n",
        "model.summary()\n",
        "\n"
      ],
      "metadata": {
        "colab": {
          "base_uri": "https://localhost:8080/",
          "height": 236
        },
        "id": "wVJVr58C5JEW",
        "outputId": "f6907abc-e7a6-4ebf-801b-9711da33b53e"
      },
      "execution_count": 30,
      "outputs": [
        {
          "output_type": "display_data",
          "data": {
            "text/plain": [
              "\u001b[1mModel: \"sequential_2\"\u001b[0m\n"
            ],
            "text/html": [
              "<pre style=\"white-space:pre;overflow-x:auto;line-height:normal;font-family:Menlo,'DejaVu Sans Mono',consolas,'Courier New',monospace\"><span style=\"font-weight: bold\">Model: \"sequential_2\"</span>\n",
              "</pre>\n"
            ]
          },
          "metadata": {}
        },
        {
          "output_type": "display_data",
          "data": {
            "text/plain": [
              "┏━━━━━━━━━━━━━━━━━━━━━━━━━━━━━━━━━━━━━━┳━━━━━━━━━━━━━━━━━━━━━━━━━━━━━┳━━━━━━━━━━━━━━━━━┓\n",
              "┃\u001b[1m \u001b[0m\u001b[1mLayer (type)                        \u001b[0m\u001b[1m \u001b[0m┃\u001b[1m \u001b[0m\u001b[1mOutput Shape               \u001b[0m\u001b[1m \u001b[0m┃\u001b[1m \u001b[0m\u001b[1m        Param #\u001b[0m\u001b[1m \u001b[0m┃\n",
              "┡━━━━━━━━━━━━━━━━━━━━━━━━━━━━━━━━━━━━━━╇━━━━━━━━━━━━━━━━━━━━━━━━━━━━━╇━━━━━━━━━━━━━━━━━┩\n",
              "│ embedding_2 (\u001b[38;5;33mEmbedding\u001b[0m)              │ (\u001b[38;5;45mNone\u001b[0m, \u001b[38;5;34m1\u001b[0m, \u001b[38;5;34m10\u001b[0m)               │           \u001b[38;5;34m1,440\u001b[0m │\n",
              "├──────────────────────────────────────┼─────────────────────────────┼─────────────────┤\n",
              "│ lstm_2 (\u001b[38;5;33mLSTM\u001b[0m)                        │ (\u001b[38;5;45mNone\u001b[0m, \u001b[38;5;34m50\u001b[0m)                  │          \u001b[38;5;34m12,200\u001b[0m │\n",
              "├──────────────────────────────────────┼─────────────────────────────┼─────────────────┤\n",
              "│ dense_2 (\u001b[38;5;33mDense\u001b[0m)                      │ (\u001b[38;5;45mNone\u001b[0m, \u001b[38;5;34m144\u001b[0m)                 │           \u001b[38;5;34m7,344\u001b[0m │\n",
              "└──────────────────────────────────────┴─────────────────────────────┴─────────────────┘\n"
            ],
            "text/html": [
              "<pre style=\"white-space:pre;overflow-x:auto;line-height:normal;font-family:Menlo,'DejaVu Sans Mono',consolas,'Courier New',monospace\">┏━━━━━━━━━━━━━━━━━━━━━━━━━━━━━━━━━━━━━━┳━━━━━━━━━━━━━━━━━━━━━━━━━━━━━┳━━━━━━━━━━━━━━━━━┓\n",
              "┃<span style=\"font-weight: bold\"> Layer (type)                         </span>┃<span style=\"font-weight: bold\"> Output Shape                </span>┃<span style=\"font-weight: bold\">         Param # </span>┃\n",
              "┡━━━━━━━━━━━━━━━━━━━━━━━━━━━━━━━━━━━━━━╇━━━━━━━━━━━━━━━━━━━━━━━━━━━━━╇━━━━━━━━━━━━━━━━━┩\n",
              "│ embedding_2 (<span style=\"color: #0087ff; text-decoration-color: #0087ff\">Embedding</span>)              │ (<span style=\"color: #00d7ff; text-decoration-color: #00d7ff\">None</span>, <span style=\"color: #00af00; text-decoration-color: #00af00\">1</span>, <span style=\"color: #00af00; text-decoration-color: #00af00\">10</span>)               │           <span style=\"color: #00af00; text-decoration-color: #00af00\">1,440</span> │\n",
              "├──────────────────────────────────────┼─────────────────────────────┼─────────────────┤\n",
              "│ lstm_2 (<span style=\"color: #0087ff; text-decoration-color: #0087ff\">LSTM</span>)                        │ (<span style=\"color: #00d7ff; text-decoration-color: #00d7ff\">None</span>, <span style=\"color: #00af00; text-decoration-color: #00af00\">50</span>)                  │          <span style=\"color: #00af00; text-decoration-color: #00af00\">12,200</span> │\n",
              "├──────────────────────────────────────┼─────────────────────────────┼─────────────────┤\n",
              "│ dense_2 (<span style=\"color: #0087ff; text-decoration-color: #0087ff\">Dense</span>)                      │ (<span style=\"color: #00d7ff; text-decoration-color: #00d7ff\">None</span>, <span style=\"color: #00af00; text-decoration-color: #00af00\">144</span>)                 │           <span style=\"color: #00af00; text-decoration-color: #00af00\">7,344</span> │\n",
              "└──────────────────────────────────────┴─────────────────────────────┴─────────────────┘\n",
              "</pre>\n"
            ]
          },
          "metadata": {}
        },
        {
          "output_type": "display_data",
          "data": {
            "text/plain": [
              "\u001b[1m Total params: \u001b[0m\u001b[38;5;34m20,984\u001b[0m (81.97 KB)\n"
            ],
            "text/html": [
              "<pre style=\"white-space:pre;overflow-x:auto;line-height:normal;font-family:Menlo,'DejaVu Sans Mono',consolas,'Courier New',monospace\"><span style=\"font-weight: bold\"> Total params: </span><span style=\"color: #00af00; text-decoration-color: #00af00\">20,984</span> (81.97 KB)\n",
              "</pre>\n"
            ]
          },
          "metadata": {}
        },
        {
          "output_type": "display_data",
          "data": {
            "text/plain": [
              "\u001b[1m Trainable params: \u001b[0m\u001b[38;5;34m20,984\u001b[0m (81.97 KB)\n"
            ],
            "text/html": [
              "<pre style=\"white-space:pre;overflow-x:auto;line-height:normal;font-family:Menlo,'DejaVu Sans Mono',consolas,'Courier New',monospace\"><span style=\"font-weight: bold\"> Trainable params: </span><span style=\"color: #00af00; text-decoration-color: #00af00\">20,984</span> (81.97 KB)\n",
              "</pre>\n"
            ]
          },
          "metadata": {}
        },
        {
          "output_type": "display_data",
          "data": {
            "text/plain": [
              "\u001b[1m Non-trainable params: \u001b[0m\u001b[38;5;34m0\u001b[0m (0.00 B)\n"
            ],
            "text/html": [
              "<pre style=\"white-space:pre;overflow-x:auto;line-height:normal;font-family:Menlo,'DejaVu Sans Mono',consolas,'Courier New',monospace\"><span style=\"font-weight: bold\"> Non-trainable params: </span><span style=\"color: #00af00; text-decoration-color: #00af00\">0</span> (0.00 B)\n",
              "</pre>\n"
            ]
          },
          "metadata": {}
        }
      ]
    },
    {
      "cell_type": "code",
      "source": [
        "model.fit(X,y, epochs=200 ,verbose=2)"
      ],
      "metadata": {
        "colab": {
          "base_uri": "https://localhost:8080/"
        },
        "id": "DXwCTIVG6P3l",
        "outputId": "1b29f052-a468-4c97-cee9-e4564665c1c1"
      },
      "execution_count": 31,
      "outputs": [
        {
          "output_type": "stream",
          "name": "stdout",
          "text": [
            "Epoch 1/200\n",
            "8/8 - 2s - 307ms/step - accuracy: 0.0643 - loss: 4.9694\n",
            "Epoch 2/200\n",
            "8/8 - 0s - 9ms/step - accuracy: 0.1165 - loss: 4.9645\n",
            "Epoch 3/200\n",
            "8/8 - 0s - 8ms/step - accuracy: 0.1084 - loss: 4.9604\n",
            "Epoch 4/200\n",
            "8/8 - 0s - 9ms/step - accuracy: 0.1084 - loss: 4.9555\n",
            "Epoch 5/200\n",
            "8/8 - 0s - 9ms/step - accuracy: 0.1084 - loss: 4.9504\n",
            "Epoch 6/200\n",
            "8/8 - 0s - 18ms/step - accuracy: 0.1084 - loss: 4.9443\n",
            "Epoch 7/200\n",
            "8/8 - 0s - 9ms/step - accuracy: 0.1084 - loss: 4.9369\n",
            "Epoch 8/200\n",
            "8/8 - 0s - 8ms/step - accuracy: 0.1084 - loss: 4.9287\n",
            "Epoch 9/200\n",
            "8/8 - 0s - 11ms/step - accuracy: 0.1084 - loss: 4.9182\n",
            "Epoch 10/200\n",
            "8/8 - 0s - 16ms/step - accuracy: 0.1084 - loss: 4.9063\n",
            "Epoch 11/200\n",
            "8/8 - 0s - 9ms/step - accuracy: 0.1084 - loss: 4.8922\n",
            "Epoch 12/200\n",
            "8/8 - 0s - 17ms/step - accuracy: 0.1245 - loss: 4.8760\n",
            "Epoch 13/200\n",
            "8/8 - 0s - 9ms/step - accuracy: 0.1245 - loss: 4.8553\n",
            "Epoch 14/200\n",
            "8/8 - 0s - 8ms/step - accuracy: 0.1245 - loss: 4.8313\n",
            "Epoch 15/200\n",
            "8/8 - 0s - 8ms/step - accuracy: 0.1245 - loss: 4.8030\n",
            "Epoch 16/200\n",
            "8/8 - 0s - 22ms/step - accuracy: 0.1245 - loss: 4.7707\n",
            "Epoch 17/200\n",
            "8/8 - 0s - 16ms/step - accuracy: 0.1245 - loss: 4.7300\n",
            "Epoch 18/200\n",
            "8/8 - 0s - 20ms/step - accuracy: 0.1245 - loss: 4.6879\n",
            "Epoch 19/200\n",
            "8/8 - 0s - 13ms/step - accuracy: 0.1245 - loss: 4.6366\n",
            "Epoch 20/200\n",
            "8/8 - 0s - 18ms/step - accuracy: 0.1245 - loss: 4.5795\n",
            "Epoch 21/200\n",
            "8/8 - 0s - 13ms/step - accuracy: 0.1245 - loss: 4.5181\n",
            "Epoch 22/200\n",
            "8/8 - 0s - 18ms/step - accuracy: 0.1245 - loss: 4.4490\n",
            "Epoch 23/200\n",
            "8/8 - 0s - 14ms/step - accuracy: 0.1245 - loss: 4.3851\n",
            "Epoch 24/200\n",
            "8/8 - 0s - 13ms/step - accuracy: 0.1245 - loss: 4.3191\n",
            "Epoch 25/200\n",
            "8/8 - 0s - 12ms/step - accuracy: 0.1245 - loss: 4.2578\n",
            "Epoch 26/200\n",
            "8/8 - 0s - 16ms/step - accuracy: 0.1245 - loss: 4.1977\n",
            "Epoch 27/200\n",
            "8/8 - 0s - 16ms/step - accuracy: 0.1245 - loss: 4.1398\n",
            "Epoch 28/200\n",
            "8/8 - 0s - 18ms/step - accuracy: 0.1245 - loss: 4.0898\n",
            "Epoch 29/200\n",
            "8/8 - 0s - 14ms/step - accuracy: 0.1245 - loss: 4.0405\n",
            "Epoch 30/200\n",
            "8/8 - 0s - 14ms/step - accuracy: 0.1245 - loss: 3.9945\n",
            "Epoch 31/200\n",
            "8/8 - 0s - 13ms/step - accuracy: 0.1245 - loss: 3.9479\n",
            "Epoch 32/200\n",
            "8/8 - 0s - 15ms/step - accuracy: 0.1365 - loss: 3.9055\n",
            "Epoch 33/200\n",
            "8/8 - 0s - 17ms/step - accuracy: 0.1486 - loss: 3.8642\n",
            "Epoch 34/200\n",
            "8/8 - 0s - 15ms/step - accuracy: 0.1526 - loss: 3.8253\n",
            "Epoch 35/200\n",
            "8/8 - 0s - 17ms/step - accuracy: 0.1566 - loss: 3.7890\n",
            "Epoch 36/200\n",
            "8/8 - 0s - 9ms/step - accuracy: 0.1566 - loss: 3.7540\n",
            "Epoch 37/200\n",
            "8/8 - 0s - 9ms/step - accuracy: 0.1566 - loss: 3.7208\n",
            "Epoch 38/200\n",
            "8/8 - 0s - 17ms/step - accuracy: 0.1566 - loss: 3.6883\n",
            "Epoch 39/200\n",
            "8/8 - 0s - 9ms/step - accuracy: 0.1566 - loss: 3.6584\n",
            "Epoch 40/200\n",
            "8/8 - 0s - 9ms/step - accuracy: 0.1566 - loss: 3.6288\n",
            "Epoch 41/200\n",
            "8/8 - 0s - 17ms/step - accuracy: 0.1647 - loss: 3.5985\n",
            "Epoch 42/200\n",
            "8/8 - 0s - 9ms/step - accuracy: 0.1727 - loss: 3.5708\n",
            "Epoch 43/200\n",
            "8/8 - 0s - 9ms/step - accuracy: 0.1727 - loss: 3.5424\n",
            "Epoch 44/200\n",
            "8/8 - 0s - 17ms/step - accuracy: 0.1807 - loss: 3.5150\n",
            "Epoch 45/200\n",
            "8/8 - 0s - 10ms/step - accuracy: 0.1888 - loss: 3.4874\n",
            "Epoch 46/200\n",
            "8/8 - 0s - 9ms/step - accuracy: 0.1888 - loss: 3.4602\n",
            "Epoch 47/200\n",
            "8/8 - 0s - 10ms/step - accuracy: 0.1888 - loss: 3.4336\n",
            "Epoch 48/200\n",
            "8/8 - 0s - 17ms/step - accuracy: 0.1928 - loss: 3.4071\n",
            "Epoch 49/200\n",
            "8/8 - 0s - 9ms/step - accuracy: 0.1928 - loss: 3.3815\n",
            "Epoch 50/200\n",
            "8/8 - 0s - 17ms/step - accuracy: 0.1968 - loss: 3.3549\n",
            "Epoch 51/200\n",
            "8/8 - 0s - 9ms/step - accuracy: 0.2008 - loss: 3.3293\n",
            "Epoch 52/200\n",
            "8/8 - 0s - 9ms/step - accuracy: 0.2008 - loss: 3.3032\n",
            "Epoch 53/200\n",
            "8/8 - 0s - 9ms/step - accuracy: 0.2129 - loss: 3.2777\n",
            "Epoch 54/200\n",
            "8/8 - 0s - 10ms/step - accuracy: 0.2129 - loss: 3.2535\n",
            "Epoch 55/200\n",
            "8/8 - 0s - 9ms/step - accuracy: 0.2169 - loss: 3.2276\n",
            "Epoch 56/200\n",
            "8/8 - 0s - 19ms/step - accuracy: 0.2169 - loss: 3.2027\n",
            "Epoch 57/200\n",
            "8/8 - 0s - 15ms/step - accuracy: 0.2169 - loss: 3.1787\n",
            "Epoch 58/200\n",
            "8/8 - 0s - 9ms/step - accuracy: 0.2048 - loss: 3.1537\n",
            "Epoch 59/200\n",
            "8/8 - 0s - 8ms/step - accuracy: 0.2088 - loss: 3.1295\n",
            "Epoch 60/200\n",
            "8/8 - 0s - 8ms/step - accuracy: 0.2289 - loss: 3.1045\n",
            "Epoch 61/200\n",
            "8/8 - 0s - 8ms/step - accuracy: 0.2289 - loss: 3.0803\n",
            "Epoch 62/200\n",
            "8/8 - 0s - 17ms/step - accuracy: 0.2329 - loss: 3.0559\n",
            "Epoch 63/200\n",
            "8/8 - 0s - 17ms/step - accuracy: 0.2329 - loss: 3.0323\n",
            "Epoch 64/200\n",
            "8/8 - 0s - 10ms/step - accuracy: 0.2369 - loss: 3.0080\n",
            "Epoch 65/200\n",
            "8/8 - 0s - 9ms/step - accuracy: 0.2249 - loss: 2.9838\n",
            "Epoch 66/200\n",
            "8/8 - 0s - 9ms/step - accuracy: 0.2289 - loss: 2.9600\n",
            "Epoch 67/200\n",
            "8/8 - 0s - 10ms/step - accuracy: 0.2410 - loss: 2.9365\n",
            "Epoch 68/200\n",
            "8/8 - 0s - 19ms/step - accuracy: 0.2410 - loss: 2.9123\n",
            "Epoch 69/200\n",
            "8/8 - 0s - 9ms/step - accuracy: 0.2450 - loss: 2.8886\n",
            "Epoch 70/200\n",
            "8/8 - 0s - 9ms/step - accuracy: 0.2450 - loss: 2.8646\n",
            "Epoch 71/200\n",
            "8/8 - 0s - 8ms/step - accuracy: 0.2530 - loss: 2.8416\n",
            "Epoch 72/200\n",
            "8/8 - 0s - 18ms/step - accuracy: 0.2651 - loss: 2.8182\n",
            "Epoch 73/200\n",
            "8/8 - 0s - 8ms/step - accuracy: 0.2610 - loss: 2.7945\n",
            "Epoch 74/200\n",
            "8/8 - 0s - 8ms/step - accuracy: 0.2771 - loss: 2.7711\n",
            "Epoch 75/200\n",
            "8/8 - 0s - 16ms/step - accuracy: 0.2811 - loss: 2.7476\n",
            "Epoch 76/200\n",
            "8/8 - 0s - 8ms/step - accuracy: 0.2892 - loss: 2.7243\n",
            "Epoch 77/200\n",
            "8/8 - 0s - 18ms/step - accuracy: 0.2892 - loss: 2.7010\n",
            "Epoch 78/200\n",
            "8/8 - 0s - 17ms/step - accuracy: 0.2892 - loss: 2.6783\n",
            "Epoch 79/200\n",
            "8/8 - 0s - 9ms/step - accuracy: 0.2892 - loss: 2.6553\n",
            "Epoch 80/200\n",
            "8/8 - 0s - 17ms/step - accuracy: 0.3012 - loss: 2.6322\n",
            "Epoch 81/200\n",
            "8/8 - 0s - 9ms/step - accuracy: 0.3052 - loss: 2.6095\n",
            "Epoch 82/200\n",
            "8/8 - 0s - 17ms/step - accuracy: 0.3213 - loss: 2.5861\n",
            "Epoch 83/200\n",
            "8/8 - 0s - 9ms/step - accuracy: 0.3333 - loss: 2.5642\n",
            "Epoch 84/200\n",
            "8/8 - 0s - 17ms/step - accuracy: 0.3373 - loss: 2.5410\n",
            "Epoch 85/200\n",
            "8/8 - 0s - 9ms/step - accuracy: 0.3414 - loss: 2.5193\n",
            "Epoch 86/200\n",
            "8/8 - 0s - 9ms/step - accuracy: 0.3494 - loss: 2.4975\n",
            "Epoch 87/200\n",
            "8/8 - 0s - 9ms/step - accuracy: 0.3534 - loss: 2.4749\n",
            "Epoch 88/200\n",
            "8/8 - 0s - 10ms/step - accuracy: 0.3574 - loss: 2.4533\n",
            "Epoch 89/200\n",
            "8/8 - 0s - 9ms/step - accuracy: 0.3494 - loss: 2.4324\n",
            "Epoch 90/200\n",
            "8/8 - 0s - 9ms/step - accuracy: 0.3695 - loss: 2.4101\n",
            "Epoch 91/200\n",
            "8/8 - 0s - 9ms/step - accuracy: 0.3775 - loss: 2.3887\n",
            "Epoch 92/200\n",
            "8/8 - 0s - 9ms/step - accuracy: 0.3855 - loss: 2.3682\n",
            "Epoch 93/200\n",
            "8/8 - 0s - 17ms/step - accuracy: 0.4056 - loss: 2.3466\n",
            "Epoch 94/200\n",
            "8/8 - 0s - 9ms/step - accuracy: 0.4016 - loss: 2.3267\n",
            "Epoch 95/200\n",
            "8/8 - 0s - 18ms/step - accuracy: 0.4137 - loss: 2.3059\n",
            "Epoch 96/200\n",
            "8/8 - 0s - 17ms/step - accuracy: 0.4337 - loss: 2.2849\n",
            "Epoch 97/200\n",
            "8/8 - 0s - 18ms/step - accuracy: 0.4378 - loss: 2.2652\n",
            "Epoch 98/200\n",
            "8/8 - 0s - 17ms/step - accuracy: 0.4498 - loss: 2.2450\n",
            "Epoch 99/200\n",
            "8/8 - 0s - 9ms/step - accuracy: 0.4618 - loss: 2.2245\n",
            "Epoch 100/200\n",
            "8/8 - 0s - 8ms/step - accuracy: 0.4659 - loss: 2.2053\n",
            "Epoch 101/200\n",
            "8/8 - 0s - 9ms/step - accuracy: 0.4618 - loss: 2.1857\n",
            "Epoch 102/200\n",
            "8/8 - 0s - 8ms/step - accuracy: 0.4578 - loss: 2.1661\n",
            "Epoch 103/200\n",
            "8/8 - 0s - 18ms/step - accuracy: 0.4538 - loss: 2.1469\n",
            "Epoch 104/200\n",
            "8/8 - 0s - 10ms/step - accuracy: 0.4618 - loss: 2.1282\n",
            "Epoch 105/200\n",
            "8/8 - 0s - 9ms/step - accuracy: 0.4859 - loss: 2.1085\n",
            "Epoch 106/200\n",
            "8/8 - 0s - 17ms/step - accuracy: 0.4859 - loss: 2.0906\n",
            "Epoch 107/200\n",
            "8/8 - 0s - 18ms/step - accuracy: 0.4940 - loss: 2.0721\n",
            "Epoch 108/200\n",
            "8/8 - 0s - 10ms/step - accuracy: 0.4980 - loss: 2.0535\n",
            "Epoch 109/200\n",
            "8/8 - 0s - 9ms/step - accuracy: 0.5100 - loss: 2.0351\n",
            "Epoch 110/200\n",
            "8/8 - 0s - 17ms/step - accuracy: 0.5100 - loss: 2.0172\n",
            "Epoch 111/200\n",
            "8/8 - 0s - 8ms/step - accuracy: 0.5141 - loss: 1.9990\n",
            "Epoch 112/200\n",
            "8/8 - 0s - 18ms/step - accuracy: 0.5141 - loss: 1.9813\n",
            "Epoch 113/200\n",
            "8/8 - 0s - 9ms/step - accuracy: 0.5181 - loss: 1.9646\n",
            "Epoch 114/200\n",
            "8/8 - 0s - 10ms/step - accuracy: 0.5341 - loss: 1.9477\n",
            "Epoch 115/200\n",
            "8/8 - 0s - 17ms/step - accuracy: 0.5341 - loss: 1.9299\n",
            "Epoch 116/200\n",
            "8/8 - 0s - 9ms/step - accuracy: 0.5341 - loss: 1.9126\n",
            "Epoch 117/200\n",
            "8/8 - 0s - 8ms/step - accuracy: 0.5341 - loss: 1.8961\n",
            "Epoch 118/200\n",
            "8/8 - 0s - 9ms/step - accuracy: 0.5422 - loss: 1.8798\n",
            "Epoch 119/200\n",
            "8/8 - 0s - 16ms/step - accuracy: 0.5462 - loss: 1.8636\n",
            "Epoch 120/200\n",
            "8/8 - 0s - 18ms/step - accuracy: 0.5462 - loss: 1.8470\n",
            "Epoch 121/200\n",
            "8/8 - 0s - 9ms/step - accuracy: 0.5542 - loss: 1.8304\n",
            "Epoch 122/200\n",
            "8/8 - 0s - 9ms/step - accuracy: 0.5582 - loss: 1.8153\n",
            "Epoch 123/200\n",
            "8/8 - 0s - 9ms/step - accuracy: 0.5622 - loss: 1.7993\n",
            "Epoch 124/200\n",
            "8/8 - 0s - 9ms/step - accuracy: 0.5703 - loss: 1.7843\n",
            "Epoch 125/200\n",
            "8/8 - 0s - 9ms/step - accuracy: 0.5783 - loss: 1.7687\n",
            "Epoch 126/200\n",
            "8/8 - 0s - 8ms/step - accuracy: 0.5783 - loss: 1.7540\n",
            "Epoch 127/200\n",
            "8/8 - 0s - 18ms/step - accuracy: 0.5783 - loss: 1.7390\n",
            "Epoch 128/200\n",
            "8/8 - 0s - 9ms/step - accuracy: 0.5823 - loss: 1.7236\n",
            "Epoch 129/200\n",
            "8/8 - 0s - 17ms/step - accuracy: 0.5823 - loss: 1.7096\n",
            "Epoch 130/200\n",
            "8/8 - 0s - 9ms/step - accuracy: 0.5783 - loss: 1.6955\n",
            "Epoch 131/200\n",
            "8/8 - 0s - 8ms/step - accuracy: 0.5783 - loss: 1.6813\n",
            "Epoch 132/200\n",
            "8/8 - 0s - 9ms/step - accuracy: 0.5863 - loss: 1.6668\n",
            "Epoch 133/200\n",
            "8/8 - 0s - 17ms/step - accuracy: 0.5904 - loss: 1.6533\n",
            "Epoch 134/200\n",
            "8/8 - 0s - 9ms/step - accuracy: 0.5823 - loss: 1.6396\n",
            "Epoch 135/200\n",
            "8/8 - 0s - 18ms/step - accuracy: 0.5863 - loss: 1.6273\n",
            "Epoch 136/200\n",
            "8/8 - 0s - 9ms/step - accuracy: 0.5823 - loss: 1.6126\n",
            "Epoch 137/200\n",
            "8/8 - 0s - 21ms/step - accuracy: 0.6024 - loss: 1.6000\n",
            "Epoch 138/200\n",
            "8/8 - 0s - 15ms/step - accuracy: 0.6104 - loss: 1.5876\n",
            "Epoch 139/200\n",
            "8/8 - 0s - 16ms/step - accuracy: 0.6064 - loss: 1.5742\n",
            "Epoch 140/200\n",
            "8/8 - 0s - 13ms/step - accuracy: 0.6185 - loss: 1.5620\n",
            "Epoch 141/200\n",
            "8/8 - 0s - 17ms/step - accuracy: 0.6185 - loss: 1.5498\n",
            "Epoch 142/200\n",
            "8/8 - 0s - 13ms/step - accuracy: 0.6104 - loss: 1.5364\n",
            "Epoch 143/200\n",
            "8/8 - 0s - 17ms/step - accuracy: 0.6145 - loss: 1.5252\n",
            "Epoch 144/200\n",
            "8/8 - 0s - 13ms/step - accuracy: 0.6185 - loss: 1.5134\n",
            "Epoch 145/200\n",
            "8/8 - 0s - 16ms/step - accuracy: 0.6225 - loss: 1.5011\n",
            "Epoch 146/200\n",
            "8/8 - 0s - 12ms/step - accuracy: 0.6104 - loss: 1.4900\n",
            "Epoch 147/200\n",
            "8/8 - 0s - 18ms/step - accuracy: 0.6104 - loss: 1.4786\n",
            "Epoch 148/200\n",
            "8/8 - 0s - 17ms/step - accuracy: 0.6265 - loss: 1.4675\n",
            "Epoch 149/200\n",
            "8/8 - 0s - 19ms/step - accuracy: 0.6265 - loss: 1.4564\n",
            "Epoch 150/200\n",
            "8/8 - 0s - 15ms/step - accuracy: 0.6265 - loss: 1.4453\n",
            "Epoch 151/200\n",
            "8/8 - 0s - 15ms/step - accuracy: 0.6305 - loss: 1.4350\n",
            "Epoch 152/200\n",
            "8/8 - 0s - 15ms/step - accuracy: 0.6225 - loss: 1.4243\n",
            "Epoch 153/200\n",
            "8/8 - 0s - 14ms/step - accuracy: 0.6345 - loss: 1.4149\n",
            "Epoch 154/200\n",
            "8/8 - 0s - 14ms/step - accuracy: 0.6345 - loss: 1.4042\n",
            "Epoch 155/200\n",
            "8/8 - 0s - 16ms/step - accuracy: 0.6265 - loss: 1.3940\n",
            "Epoch 156/200\n",
            "8/8 - 0s - 14ms/step - accuracy: 0.6386 - loss: 1.3847\n",
            "Epoch 157/200\n",
            "8/8 - 0s - 9ms/step - accuracy: 0.6386 - loss: 1.3754\n",
            "Epoch 158/200\n",
            "8/8 - 0s - 9ms/step - accuracy: 0.6265 - loss: 1.3654\n",
            "Epoch 159/200\n",
            "8/8 - 0s - 18ms/step - accuracy: 0.6345 - loss: 1.3565\n",
            "Epoch 160/200\n",
            "8/8 - 0s - 8ms/step - accuracy: 0.6345 - loss: 1.3464\n",
            "Epoch 161/200\n",
            "8/8 - 0s - 8ms/step - accuracy: 0.6265 - loss: 1.3380\n",
            "Epoch 162/200\n",
            "8/8 - 0s - 9ms/step - accuracy: 0.6386 - loss: 1.3289\n",
            "Epoch 163/200\n",
            "8/8 - 0s - 9ms/step - accuracy: 0.6305 - loss: 1.3205\n",
            "Epoch 164/200\n",
            "8/8 - 0s - 9ms/step - accuracy: 0.6345 - loss: 1.3118\n",
            "Epoch 165/200\n",
            "8/8 - 0s - 8ms/step - accuracy: 0.6305 - loss: 1.3034\n",
            "Epoch 166/200\n",
            "8/8 - 0s - 10ms/step - accuracy: 0.6386 - loss: 1.2950\n",
            "Epoch 167/200\n",
            "8/8 - 0s - 9ms/step - accuracy: 0.6386 - loss: 1.2864\n",
            "Epoch 168/200\n",
            "8/8 - 0s - 9ms/step - accuracy: 0.6305 - loss: 1.2791\n",
            "Epoch 169/200\n",
            "8/8 - 0s - 9ms/step - accuracy: 0.6386 - loss: 1.2713\n",
            "Epoch 170/200\n",
            "8/8 - 0s - 9ms/step - accuracy: 0.6426 - loss: 1.2632\n",
            "Epoch 171/200\n",
            "8/8 - 0s - 9ms/step - accuracy: 0.6426 - loss: 1.2563\n",
            "Epoch 172/200\n",
            "8/8 - 0s - 17ms/step - accuracy: 0.6386 - loss: 1.2486\n",
            "Epoch 173/200\n",
            "8/8 - 0s - 9ms/step - accuracy: 0.6386 - loss: 1.2414\n",
            "Epoch 174/200\n",
            "8/8 - 0s - 9ms/step - accuracy: 0.6386 - loss: 1.2344\n",
            "Epoch 175/200\n",
            "8/8 - 0s - 9ms/step - accuracy: 0.6386 - loss: 1.2281\n",
            "Epoch 176/200\n",
            "8/8 - 0s - 9ms/step - accuracy: 0.6386 - loss: 1.2202\n",
            "Epoch 177/200\n",
            "8/8 - 0s - 17ms/step - accuracy: 0.6386 - loss: 1.2136\n",
            "Epoch 178/200\n",
            "8/8 - 0s - 10ms/step - accuracy: 0.6185 - loss: 1.2074\n",
            "Epoch 179/200\n",
            "8/8 - 0s - 8ms/step - accuracy: 0.6185 - loss: 1.2007\n",
            "Epoch 180/200\n",
            "8/8 - 0s - 8ms/step - accuracy: 0.6345 - loss: 1.1941\n",
            "Epoch 181/200\n",
            "8/8 - 0s - 18ms/step - accuracy: 0.6305 - loss: 1.1879\n",
            "Epoch 182/200\n",
            "8/8 - 0s - 10ms/step - accuracy: 0.6345 - loss: 1.1816\n",
            "Epoch 183/200\n",
            "8/8 - 0s - 16ms/step - accuracy: 0.6265 - loss: 1.1755\n",
            "Epoch 184/200\n",
            "8/8 - 0s - 8ms/step - accuracy: 0.6265 - loss: 1.1703\n",
            "Epoch 185/200\n",
            "8/8 - 0s - 18ms/step - accuracy: 0.6345 - loss: 1.1638\n",
            "Epoch 186/200\n",
            "8/8 - 0s - 9ms/step - accuracy: 0.6185 - loss: 1.1594\n",
            "Epoch 187/200\n",
            "8/8 - 0s - 17ms/step - accuracy: 0.6345 - loss: 1.1531\n",
            "Epoch 188/200\n",
            "8/8 - 0s - 11ms/step - accuracy: 0.6265 - loss: 1.1471\n",
            "Epoch 189/200\n",
            "8/8 - 0s - 8ms/step - accuracy: 0.6225 - loss: 1.1427\n",
            "Epoch 190/200\n",
            "8/8 - 0s - 8ms/step - accuracy: 0.6305 - loss: 1.1380\n",
            "Epoch 191/200\n",
            "8/8 - 0s - 9ms/step - accuracy: 0.6345 - loss: 1.1316\n",
            "Epoch 192/200\n",
            "8/8 - 0s - 18ms/step - accuracy: 0.6305 - loss: 1.1279\n",
            "Epoch 193/200\n",
            "8/8 - 0s - 16ms/step - accuracy: 0.6265 - loss: 1.1224\n",
            "Epoch 194/200\n",
            "8/8 - 0s - 9ms/step - accuracy: 0.6305 - loss: 1.1170\n",
            "Epoch 195/200\n",
            "8/8 - 0s - 8ms/step - accuracy: 0.6185 - loss: 1.1125\n",
            "Epoch 196/200\n",
            "8/8 - 0s - 10ms/step - accuracy: 0.6345 - loss: 1.1084\n",
            "Epoch 197/200\n",
            "8/8 - 0s - 9ms/step - accuracy: 0.6265 - loss: 1.1034\n",
            "Epoch 198/200\n",
            "8/8 - 0s - 9ms/step - accuracy: 0.6265 - loss: 1.0996\n",
            "Epoch 199/200\n",
            "8/8 - 0s - 9ms/step - accuracy: 0.6265 - loss: 1.0949\n",
            "Epoch 200/200\n",
            "8/8 - 0s - 17ms/step - accuracy: 0.6345 - loss: 1.0908\n"
          ]
        },
        {
          "output_type": "execute_result",
          "data": {
            "text/plain": [
              "<keras.src.callbacks.history.History at 0x7931564e6510>"
            ]
          },
          "metadata": {},
          "execution_count": 31
        }
      ]
    },
    {
      "cell_type": "code",
      "source": [
        "import numpy as np\n",
        "\n",
        "def generate_seq(model, tokenizer, seed_text, n_words):\n",
        "    in_text, result = seed_text, seed_text\n",
        "\n",
        "    for _ in range(n_words):\n",
        "        # Encode text as integers\n",
        "        encoded = tokenizer.texts_to_sequences([in_text])[0]\n",
        "\n",
        "        if not encoded:  # Check if token exists\n",
        "            print(\"Warning: Word not found in tokenizer vocabulary.\")\n",
        "            break\n",
        "\n",
        "        # Reshape for model input\n",
        "        encoded = np.array(encoded).reshape(1, -1)\n",
        "\n",
        "        # Predict next word index\n",
        "        yhat = np.argmax(model.predict(encoded, verbose=0), axis=-1)[0]\n",
        "\n",
        "        # Find corresponding word\n",
        "        out_word = next((word for word, index in tokenizer.word_index.items() if index == yhat), None)\n",
        "\n",
        "        if not out_word:  # Stop if prediction fails\n",
        "            print(\"Warning: No word found for predicted index.\")\n",
        "            break\n",
        "\n",
        "        # Append to result\n",
        "        in_text, result = out_word, result + ' ' + out_word\n",
        "    return result\n"
      ],
      "metadata": {
        "id": "PqfgRDSW6d30"
      },
      "execution_count": 32,
      "outputs": []
    },
    {
      "cell_type": "code",
      "source": [
        "print(generate_seq(model ,tokenizer, 'incision', 40))"
      ],
      "metadata": {
        "colab": {
          "base_uri": "https://localhost:8080/"
        },
        "id": "XGW8nfMg9uQg",
        "outputId": "0d3cc870-3d6e-4575-bf71-160332f430c9"
      },
      "execution_count": 33,
      "outputs": [
        {
          "output_type": "stream",
          "name": "stdout",
          "text": [
            "incision of the grand canyon is 277 miles wide and its many caves the grand canyon is 277 miles wide and its many caves the grand canyon is 277 miles wide and its many caves the grand canyon is 277 miles\n"
          ]
        }
      ]
    }
  ]
}